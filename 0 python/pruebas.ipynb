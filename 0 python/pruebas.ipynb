{
 "cells": [
  {
   "cell_type": "markdown",
   "metadata": {},
   "source": [
    "### Con este fichero hacemos unas pruebas básicas para comprobar que Spark está correctamente funcionando\n",
    "\n",
    "Los ficheros de datos deben estar en /mnt/volume/cvs_ok/"
   ]
  },
  {
   "cell_type": "code",
   "execution_count": 2,
   "metadata": {},
   "outputs": [],
   "source": [
    "import pyspark\n",
    "import numpy as np\n",
    "import pandas as pd\n",
    "import sys\n",
    "import os"
   ]
  },
  {
   "cell_type": "code",
   "execution_count": 3,
   "metadata": {},
   "outputs": [
    {
     "name": "stdout",
     "output_type": "stream",
     "text": [
      "4.0.0\n",
      "1.26.0\n",
      "2.3.1\n",
      "3.11.13 | packaged by conda-forge | (main, Jun  4 2025, 14:48:23) [GCC 13.3.0]\n"
     ]
    }
   ],
   "source": [
    "print (pyspark.__version__)   \n",
    "print (np.__version__)\n",
    "print (pd.__version__)\n",
    "print (sys.version)\n"
   ]
  },
  {
   "cell_type": "code",
   "execution_count": 4,
   "metadata": {},
   "outputs": [
    {
     "data": {
      "text/plain": [
       "[('local[*]',\n",
       "  'AppCLusterLocal',\n",
       "  '/media/juanma/spark/datos/cvs_ok/2021/10-2021.csv'),\n",
       " ('spark://localhost:7077',\n",
       "  'AppCLusterCompose',\n",
       "  '/mnt/volume/cvs_ok/2021/10-2021.csv')]"
      ]
     },
     "execution_count": 4,
     "metadata": {},
     "output_type": "execute_result"
    }
   ],
   "source": [
    "entornos = []\n",
    "#local = ('local[*]','AppCLusterLocal','/Users/Juanma/Desktop/work-consolidado/10-2021.csv')\n",
    "local = ('local[*]','AppCLusterLocal','/media/juanma/spark/datos/cvs_ok/2021/10-2021.csv')\n",
    "compose = ('spark://localhost:7077','AppCLusterCompose','/mnt/volume/cvs_ok/2021/10-2021.csv')\n",
    "entornos.append(local)\n",
    "entornos.append(compose)\n",
    "fichero = ''\n",
    "entornos"
   ]
  },
  {
   "cell_type": "code",
   "execution_count": 5,
   "metadata": {},
   "outputs": [],
   "source": [
    "from pyspark.sql import SparkSession\n",
    "import pandas as pd\n",
    "\n",
    "global spark\n",
    "\n",
    "def ConexionCluster(entorno=0):\n",
    "# jobs: http://localhost:4040/jobs/\n",
    "    global fichero    \n",
    "    srv = entornos[entorno][0]\n",
    "    app = entornos[entorno][1]\n",
    "    fichero = entornos[entorno][2]    \n",
    "    print (srv)\n",
    "    print (app)\n",
    "    print (fichero)\n",
    "    print ('entorno', entorno)\n",
    "    if entorno > 0:\n",
    "        return SparkSession.builder \\\n",
    "            .appName(app) \\\n",
    "            .master(srv) \\\n",
    "            .config(\"spark.cores.max\", 4)  \\\n",
    "            .config(\"spark.executor.cores\", 2) \\\n",
    "            .config(\"spark.executor.memory\", \"4g\") \\\n",
    "            .config(\"spark.local.dir\",\"/tmp/spark\") \\\n",
    "            .getOrCreate()        \n",
    "    else:\n",
    "        return SparkSession.builder \\\n",
    "            .appName(app) \\\n",
    "            .master(srv) \\\n",
    "            .config(\"spark.local.dir\", \"/mnt/volume/spark-tmp\") \\\n",
    "            .getOrCreate()        \n",
    "\n",
    "def CargaMuestra():\n",
    "    cad = \"file:\" + fichero\n",
    "    print (cad)\n",
    "    return spark.read.format(\"csv\").option(\"inferSchema\",\"true\").option(\"sep\",\";\").option(\"header\",\"true\") \\\n",
    "    .load(cad)"
   ]
  },
  {
   "cell_type": "code",
   "execution_count": 6,
   "metadata": {},
   "outputs": [
    {
     "name": "stdout",
     "output_type": "stream",
     "text": [
      "spark://localhost:7077\n",
      "AppCLusterCompose\n",
      "/mnt/volume/cvs_ok/2021/10-2021.csv\n",
      "entorno 1\n"
     ]
    },
    {
     "name": "stderr",
     "output_type": "stream",
     "text": [
      "WARNING: Using incubator modules: jdk.incubator.vector\n",
      "Using Spark's default log4j profile: org/apache/spark/log4j2-defaults.properties\n",
      "Setting default log level to \"WARN\".\n",
      "To adjust logging level use sc.setLogLevel(newLevel). For SparkR, use setLogLevel(newLevel).\n",
      "25/09/08 19:40:15 WARN NativeCodeLoader: Unable to load native-hadoop library for your platform... using builtin-java classes where applicable\n",
      "25/09/08 19:40:15 WARN SparkConf: Note that spark.local.dir will be overridden by the value set by the cluster manager (via SPARK_LOCAL_DIRS in standalone/kubernetes and LOCAL_DIRS in YARN).\n",
      "25/09/08 19:40:15 WARN Utils: Service 'SparkUI' could not bind on port 4040. Attempting port 4041.\n"
     ]
    },
    {
     "name": "stdout",
     "output_type": "stream",
     "text": [
      "file:/mnt/volume/cvs_ok/2021/10-2021.csv\n"
     ]
    },
    {
     "name": "stderr",
     "output_type": "stream",
     "text": [
      "                                                                                \r"
     ]
    }
   ],
   "source": [
    "spark = ConexionCluster(1)\n",
    "df = CargaMuestra()"
   ]
  },
  {
   "cell_type": "code",
   "execution_count": 7,
   "metadata": {},
   "outputs": [
    {
     "data": {
      "text/html": [
       "\n",
       "            <div>\n",
       "                <p><b>SparkSession - in-memory</b></p>\n",
       "                \n",
       "        <div>\n",
       "            <p><b>SparkContext</b></p>\n",
       "\n",
       "            <p><a href=\"http://172.22.139.79:4041\">Spark UI</a></p>\n",
       "\n",
       "            <dl>\n",
       "              <dt>Version</dt>\n",
       "                <dd><code>v4.0.0</code></dd>\n",
       "              <dt>Master</dt>\n",
       "                <dd><code>spark://localhost:7077</code></dd>\n",
       "              <dt>AppName</dt>\n",
       "                <dd><code>AppCLusterCompose</code></dd>\n",
       "            </dl>\n",
       "        </div>\n",
       "        \n",
       "            </div>\n",
       "        "
      ],
      "text/plain": [
       "<pyspark.sql.session.SparkSession at 0x7db0e329a650>"
      ]
     },
     "execution_count": 7,
     "metadata": {},
     "output_type": "execute_result"
    }
   ],
   "source": [
    "spark\n"
   ]
  },
  {
   "cell_type": "code",
   "execution_count": 8,
   "metadata": {},
   "outputs": [
    {
     "name": "stdout",
     "output_type": "stream",
     "text": [
      "+----+-------------------+---------+----------+---------+-----+----+-----+-------------------+\n",
      "|  id|              fecha|tipo_elem|intensidad|ocupacion|carga|vmed|error|periodo_integracion|\n",
      "+----+-------------------+---------+----------+---------+-----+----+-----+-------------------+\n",
      "|  31|2021-10-19 01:45:00|      URB|        20|      0.0|    0| 0.0|    N|                  1|\n",
      "|1001|2021-10-01 00:00:00|      M30|       528|      2.0|    0|58.0|    N|                  5|\n",
      "|1001|2021-10-01 00:15:00|      M30|       516|      1.0|    0|56.0|    N|                  5|\n",
      "|1001|2021-10-01 00:30:00|      M30|       672|      2.0|    0|60.0|    N|                  5|\n",
      "|1001|2021-10-01 00:45:00|      M30|       588|      2.0|    0|61.0|    N|                  5|\n",
      "|1001|2021-10-01 01:00:00|      M30|       432|      1.0|    0|62.0|    N|                  5|\n",
      "|1001|2021-10-01 01:15:00|      M30|       528|      1.0|    0|59.0|    N|                  5|\n",
      "|1001|2021-10-01 01:30:00|      M30|       576|      1.0|    0|58.0|    N|                  5|\n",
      "|1001|2021-10-01 01:45:00|      M30|       312|      1.0|    0|61.0|    N|                  5|\n",
      "|1001|2021-10-01 02:00:00|      M30|       204|      NaN|    0|64.0|    N|                  5|\n",
      "|1001|2021-10-01 02:15:00|      M30|       120|      NaN|    0|65.0|    N|                  5|\n",
      "|1001|2021-10-01 02:30:00|      M30|       132|      NaN|    0|66.0|    N|                  5|\n",
      "|1001|2021-10-01 02:45:00|      M30|        60|      NaN|    0|30.0|    N|                  5|\n",
      "|1001|2021-10-01 03:00:00|      M30|        72|      0.0|    0|23.0|    N|                  5|\n",
      "|1001|2021-10-01 03:15:00|      M30|       120|      1.0|    0|36.0|    N|                  5|\n",
      "|1001|2021-10-01 03:30:00|      M30|       120|      1.0|    0|53.0|    N|                  5|\n",
      "|1001|2021-10-01 03:45:00|      M30|       192|      NaN|    0|60.0|    N|                  5|\n",
      "|1001|2021-10-01 04:00:00|      M30|       192|      NaN|    0|63.0|    N|                  5|\n",
      "|1001|2021-10-01 04:15:00|      M30|        60|      NaN|    0|37.0|    N|                  5|\n",
      "|1001|2021-10-01 04:30:00|      M30|       120|      0.0|    0|47.0|    N|                  5|\n",
      "+----+-------------------+---------+----------+---------+-----+----+-----+-------------------+\n",
      "only showing top 20 rows\n"
     ]
    }
   ],
   "source": [
    "df.show()"
   ]
  },
  {
   "cell_type": "code",
   "execution_count": 9,
   "metadata": {},
   "outputs": [
    {
     "data": {
      "application/vnd.microsoft.datawrangler.viewer.v0+json": {
       "columns": [
        {
         "name": "index",
         "rawType": "int64",
         "type": "integer"
        },
        {
         "name": "id",
         "rawType": "int64",
         "type": "integer"
        },
        {
         "name": "fecha",
         "rawType": "object",
         "type": "string"
        },
        {
         "name": "tipo_elem",
         "rawType": "object",
         "type": "string"
        },
        {
         "name": "intensidad",
         "rawType": "int64",
         "type": "integer"
        },
        {
         "name": "ocupacion",
         "rawType": "float64",
         "type": "float"
        },
        {
         "name": "carga",
         "rawType": "int64",
         "type": "integer"
        },
        {
         "name": "vmed",
         "rawType": "float64",
         "type": "float"
        },
        {
         "name": "error",
         "rawType": "object",
         "type": "string"
        },
        {
         "name": "periodo_integracion",
         "rawType": "int64",
         "type": "integer"
        }
       ],
       "ref": "c2537fe5-b2a2-4bed-be06-0ae5d50ef510",
       "rows": [
        [
         "0",
         "31",
         "2021-10-19 01:45:00",
         "URB",
         "20",
         "0.0",
         "0",
         "0.0",
         "N",
         "1"
        ],
        [
         "1",
         "1001",
         "2021-10-01 00:00:00",
         "M30",
         "528",
         "2.0",
         "0",
         "58.0",
         "N",
         "5"
        ],
        [
         "2",
         "1001",
         "2021-10-01 00:15:00",
         "M30",
         "516",
         "1.0",
         "0",
         "56.0",
         "N",
         "5"
        ],
        [
         "3",
         "1001",
         "2021-10-01 00:30:00",
         "M30",
         "672",
         "2.0",
         "0",
         "60.0",
         "N",
         "5"
        ],
        [
         "4",
         "1001",
         "2021-10-01 00:45:00",
         "M30",
         "588",
         "2.0",
         "0",
         "61.0",
         "N",
         "5"
        ]
       ],
       "shape": {
        "columns": 9,
        "rows": 5
       }
      },
      "text/html": [
       "<div>\n",
       "<style scoped>\n",
       "    .dataframe tbody tr th:only-of-type {\n",
       "        vertical-align: middle;\n",
       "    }\n",
       "\n",
       "    .dataframe tbody tr th {\n",
       "        vertical-align: top;\n",
       "    }\n",
       "\n",
       "    .dataframe thead th {\n",
       "        text-align: right;\n",
       "    }\n",
       "</style>\n",
       "<table border=\"1\" class=\"dataframe\">\n",
       "  <thead>\n",
       "    <tr style=\"text-align: right;\">\n",
       "      <th></th>\n",
       "      <th>id</th>\n",
       "      <th>fecha</th>\n",
       "      <th>tipo_elem</th>\n",
       "      <th>intensidad</th>\n",
       "      <th>ocupacion</th>\n",
       "      <th>carga</th>\n",
       "      <th>vmed</th>\n",
       "      <th>error</th>\n",
       "      <th>periodo_integracion</th>\n",
       "    </tr>\n",
       "  </thead>\n",
       "  <tbody>\n",
       "    <tr>\n",
       "      <th>0</th>\n",
       "      <td>31</td>\n",
       "      <td>2021-10-19 01:45:00</td>\n",
       "      <td>URB</td>\n",
       "      <td>20</td>\n",
       "      <td>0.0</td>\n",
       "      <td>0</td>\n",
       "      <td>0.0</td>\n",
       "      <td>N</td>\n",
       "      <td>1</td>\n",
       "    </tr>\n",
       "    <tr>\n",
       "      <th>1</th>\n",
       "      <td>1001</td>\n",
       "      <td>2021-10-01 00:00:00</td>\n",
       "      <td>M30</td>\n",
       "      <td>528</td>\n",
       "      <td>2.0</td>\n",
       "      <td>0</td>\n",
       "      <td>58.0</td>\n",
       "      <td>N</td>\n",
       "      <td>5</td>\n",
       "    </tr>\n",
       "    <tr>\n",
       "      <th>2</th>\n",
       "      <td>1001</td>\n",
       "      <td>2021-10-01 00:15:00</td>\n",
       "      <td>M30</td>\n",
       "      <td>516</td>\n",
       "      <td>1.0</td>\n",
       "      <td>0</td>\n",
       "      <td>56.0</td>\n",
       "      <td>N</td>\n",
       "      <td>5</td>\n",
       "    </tr>\n",
       "    <tr>\n",
       "      <th>3</th>\n",
       "      <td>1001</td>\n",
       "      <td>2021-10-01 00:30:00</td>\n",
       "      <td>M30</td>\n",
       "      <td>672</td>\n",
       "      <td>2.0</td>\n",
       "      <td>0</td>\n",
       "      <td>60.0</td>\n",
       "      <td>N</td>\n",
       "      <td>5</td>\n",
       "    </tr>\n",
       "    <tr>\n",
       "      <th>4</th>\n",
       "      <td>1001</td>\n",
       "      <td>2021-10-01 00:45:00</td>\n",
       "      <td>M30</td>\n",
       "      <td>588</td>\n",
       "      <td>2.0</td>\n",
       "      <td>0</td>\n",
       "      <td>61.0</td>\n",
       "      <td>N</td>\n",
       "      <td>5</td>\n",
       "    </tr>\n",
       "  </tbody>\n",
       "</table>\n",
       "</div>"
      ],
      "text/plain": [
       "     id                fecha tipo_elem  intensidad  ocupacion  carga  vmed  \\\n",
       "0    31  2021-10-19 01:45:00       URB          20        0.0      0   0.0   \n",
       "1  1001  2021-10-01 00:00:00       M30         528        2.0      0  58.0   \n",
       "2  1001  2021-10-01 00:15:00       M30         516        1.0      0  56.0   \n",
       "3  1001  2021-10-01 00:30:00       M30         672        2.0      0  60.0   \n",
       "4  1001  2021-10-01 00:45:00       M30         588        2.0      0  61.0   \n",
       "\n",
       "  error  periodo_integracion  \n",
       "0     N                    1  \n",
       "1     N                    5  \n",
       "2     N                    5  \n",
       "3     N                    5  \n",
       "4     N                    5  "
      ]
     },
     "execution_count": 9,
     "metadata": {},
     "output_type": "execute_result"
    }
   ],
   "source": [
    "pandas_df = pd.read_csv(fichero,sep=\";\")\n",
    "pandas_df.head()"
   ]
  },
  {
   "cell_type": "code",
   "execution_count": 10,
   "metadata": {},
   "outputs": [],
   "source": [
    "def BateriaSpark():\n",
    "    print(df.printSchema())"
   ]
  },
  {
   "cell_type": "code",
   "execution_count": 11,
   "metadata": {},
   "outputs": [
    {
     "name": "stdout",
     "output_type": "stream",
     "text": [
      "root\n",
      " |-- id: integer (nullable = true)\n",
      " |-- fecha: timestamp (nullable = true)\n",
      " |-- tipo_elem: string (nullable = true)\n",
      " |-- intensidad: integer (nullable = true)\n",
      " |-- ocupacion: double (nullable = true)\n",
      " |-- carga: integer (nullable = true)\n",
      " |-- vmed: double (nullable = true)\n",
      " |-- error: string (nullable = true)\n",
      " |-- periodo_integracion: integer (nullable = true)\n",
      "\n",
      "None\n",
      "✅ Resultados:\n"
     ]
    },
    {
     "name": "stderr",
     "output_type": "stream",
     "text": [
      "[Stage 3:>                                                          (0 + 4) / 4]\r"
     ]
    },
    {
     "name": "stdout",
     "output_type": "stream",
     "text": [
      "[('mundo', 1), ('una', 1), ('prueba', 1), ('con', 1), ('esto', 1), ('es', 1), ('hola', 1), ('spark', 1), ('docker', 1)]\n"
     ]
    },
    {
     "name": "stderr",
     "output_type": "stream",
     "text": [
      "                                                                                \r"
     ]
    }
   ],
   "source": [
    "BateriaSpark()\n",
    "\n",
    "rdd = spark.sparkContext.parallelize([\"hola mundo\", \"esto es una prueba\", \"spark con docker\"])\n",
    "word_counts = rdd.flatMap(lambda line: line.split(\" \")) \\\n",
    "                 .map(lambda word: (word, 1)) \\\n",
    "                 .reduceByKey(lambda a, b: a + b)\n",
    "\n",
    "print(\"✅ Resultados:\")\n",
    "print(word_counts.collect())\n",
    "\n",
    "#spark.stop()"
   ]
  },
  {
   "cell_type": "code",
   "execution_count": 12,
   "metadata": {},
   "outputs": [
    {
     "name": "stdout",
     "output_type": "stream",
     "text": [
      "Iniciando entrenamiento distribuido...\n"
     ]
    },
    {
     "name": "stderr",
     "output_type": "stream",
     "text": [
      "Started distributed training with 1 executor processes\n",
      "Epoch 0, Loss: 1.180202841758728                                    (0 + 1) / 1]\n",
      "Epoch 1, Loss: 1.1750903129577637\n",
      "Epoch 2, Loss: 1.1702094078063965\n",
      "Epoch 3, Loss: 1.1655484437942505\n",
      "Epoch 4, Loss: 1.1610956192016602\n",
      "Epoch 5, Loss: 1.1568406820297241\n",
      "Epoch 6, Loss: 1.1527736186981201\n",
      "Epoch 7, Loss: 1.148884892463684\n",
      "Epoch 8, Loss: 1.1451656818389893\n",
      "Epoch 9, Loss: 1.1416054964065552\n",
      "Finished distributed training with 1 executor processes                         \n"
     ]
    },
    {
     "name": "stdout",
     "output_type": "stream",
     "text": [
      "\n",
      "Resultado del entrenamiento distribuido:\n",
      "Parámetros del modelo: ['0.weight', '0.bias', '2.weight', '2.bias']\n"
     ]
    }
   ],
   "source": [
    "from pyspark.sql import SparkSession\n",
    "from pyspark.ml.torch.distributor import TorchDistributor\n",
    "import torch\n",
    "import torch.nn as nn\n",
    "import torch.optim as optim\n",
    "\n",
    "#. Configuración especial NECESARIO EN KUBERNETES\n",
    "\n",
    "#os.environ[\"MASTER_ADDR\"] = \"spark-driver-0.spark-driver.default.svc.cluster.local\"\n",
    "#os.environ[\"MASTER_PORT\"] = \"29500\"\n",
    "\n",
    "\n",
    "#- Definir el modelo y función de entrenamiento\n",
    "def train_model(learning_rate=0.01):\n",
    "    # Modelo simple\n",
    "    model = nn.Sequential(\n",
    "        nn.Linear(10, 5),\n",
    "        nn.ReLU(),\n",
    "        nn.Linear(5, 1)\n",
    "    )\n",
    "\n",
    "    # Datos de ejemplo\n",
    "    inputs = torch.randn(100, 10)\n",
    "    targets = torch.randn(100, 1)\n",
    "\n",
    "    # Configuración de entrenamiento\n",
    "    criterion = nn.MSELoss()\n",
    "    optimizer = optim.SGD(model.parameters(), lr=learning_rate)\n",
    "\n",
    "    # Loop de entrenamiento\n",
    "    for epoch in range(10):\n",
    "        optimizer.zero_grad()\n",
    "        outputs = model(inputs)\n",
    "        loss = criterion(outputs, targets)\n",
    "        loss.backward()\n",
    "        optimizer.step()\n",
    "        print(f\"Epoch {epoch}, Loss: {loss.item()}\")\n",
    "\n",
    "    return model.state_dict()\n",
    "\n",
    "#. Usar TorchDistributor\n",
    "print(\"Iniciando entrenamiento distribuido...\")\n",
    "distributor = TorchDistributor(\n",
    "#    num_processes=2,  # Usa 2 procesos (debe ser <= número de cores)\n",
    "    local_mode=False,  \n",
    "    use_gpu=False      # No usar GPU en este ejemplo\n",
    ")\n",
    "\n",
    "# Ejecutar entrenamiento distribuido\n",
    "result = distributor.run(train_model, 0.01)\n",
    "\n",
    "print(\"\\nResultado del entrenamiento distribuido:\")\n",
    "print(f\"Parámetros del modelo: {list(result.keys())}\")\n"
   ]
  },
  {
   "cell_type": "code",
   "execution_count": 13,
   "metadata": {},
   "outputs": [
    {
     "name": "stderr",
     "output_type": "stream",
     "text": [
      "/home/juanma/anaconda3/envs/tfm/lib/python3.11/site-packages/torchvision/io/image.py:13: UserWarning: Failed to load image Python extension: '/home/juanma/anaconda3/envs/tfm/lib/python3.11/site-packages/torchvision/image.so: undefined symbol: _ZN3c1017RegisterOperatorsD1Ev'If you don't plan on using image functionality from `torchvision.io`, you can ignore this warning. Otherwise, there might be something wrong with your environment. Did you have `libjpeg` or `libpng` installed before building `torchvision` from source?\n",
      "  warn(\n"
     ]
    },
    {
     "name": "stdout",
     "output_type": "stream",
     "text": [
      "Iniciando entrenamiento distribuido MNIST...\n"
     ]
    },
    {
     "name": "stderr",
     "output_type": "stream",
     "text": [
      "Started distributed training with 1 executor processes\n",
      "Downloading http://yann.lecun.com/exdb/mnist/train-images-idx3-ubyte.gz+ 1) / 1]\n",
      "Failed to download (trying next):\n",
      "HTTP Error 404: Not Found\n",
      "\n",
      "Downloading https://ossci-datasets.s3.amazonaws.com/mnist/train-images-idx3-ubyte.gz\n",
      "Downloading https://ossci-datasets.s3.amazonaws.com/mnist/train-images-idx3-ubyte.gz to ./data/MNIST/raw/train-images-idx3-ubyte.gz\n",
      "100.0%\n",
      "Extracting ./data/MNIST/raw/train-images-idx3-ubyte.gz to ./data/MNIST/raw\n",
      "\n",
      "Downloading http://yann.lecun.com/exdb/mnist/train-labels-idx1-ubyte.gz\n",
      "Failed to download (trying next):\n",
      "HTTP Error 404: Not Found\n",
      "\n",
      "Downloading https://ossci-datasets.s3.amazonaws.com/mnist/train-labels-idx1-ubyte.gz\n",
      "Downloading https://ossci-datasets.s3.amazonaws.com/mnist/train-labels-idx1-ubyte.gz to ./data/MNIST/raw/train-labels-idx1-ubyte.gz\n",
      "100.0%\n",
      "Extracting ./data/MNIST/raw/train-labels-idx1-ubyte.gz to ./data/MNIST/raw\n",
      "\n",
      "Downloading http://yann.lecun.com/exdb/mnist/t10k-images-idx3-ubyte.gz\n",
      "Failed to download (trying next):\n",
      "HTTP Error 404: Not Found\n",
      "\n",
      "Downloading https://ossci-datasets.s3.amazonaws.com/mnist/t10k-images-idx3-ubyte.gz\n",
      "Downloading https://ossci-datasets.s3.amazonaws.com/mnist/t10k-images-idx3-ubyte.gz to ./data/MNIST/raw/t10k-images-idx3-ubyte.gz\n",
      "100.0%\n",
      "Extracting ./data/MNIST/raw/t10k-images-idx3-ubyte.gz to ./data/MNIST/raw\n",
      "\n",
      "Downloading http://yann.lecun.com/exdb/mnist/t10k-labels-idx1-ubyte.gz\n",
      "Failed to download (trying next):\n",
      "HTTP Error 404: Not Found\n",
      "\n",
      "Downloading https://ossci-datasets.s3.amazonaws.com/mnist/t10k-labels-idx1-ubyte.gz\n",
      "Downloading https://ossci-datasets.s3.amazonaws.com/mnist/t10k-labels-idx1-ubyte.gz to ./data/MNIST/raw/t10k-labels-idx1-ubyte.gz\n",
      "100.0%\n",
      "Extracting ./data/MNIST/raw/t10k-labels-idx1-ubyte.gz to ./data/MNIST/raw\n",
      "\n",
      "Batch 0, Loss: 2.2815\n",
      "Batch 100, Loss: 1.0409\n",
      "Batch 200, Loss: 0.5148\n",
      "Batch 300, Loss: 0.5386\n",
      "Batch 400, Loss: 0.4955\n",
      "Batch 500, Loss: 0.4420\n",
      "Batch 600, Loss: 0.3944\n",
      "Batch 700, Loss: 0.4038\n",
      "Batch 800, Loss: 0.3952\n",
      "Batch 900, Loss: 0.3333\n",
      "Finished distributed training with 1 executor processes                         \n"
     ]
    },
    {
     "name": "stdout",
     "output_type": "stream",
     "text": [
      "\n",
      "Parámetros entrenados:\n",
      "Keys: ['1.weight', '1.bias', '3.weight', '3.bias']\n"
     ]
    }
   ],
   "source": [
    "from pyspark.sql import SparkSession\n",
    "from pyspark.ml.torch.distributor import TorchDistributor\n",
    "import torch\n",
    "import torch.nn as nn\n",
    "import torch.optim as optim\n",
    "from torchvision import datasets, transforms\n",
    "from torch.utils.data import DataLoader\n",
    "\n",
    "# Prueba de MNIST distribuyendo el entrenamiento y los datos (tomado de GITHUB)\n",
    "\n",
    "def train_model_mnist(learning_rate=0.01):\n",
    "    transform = transforms.Compose([\n",
    "        transforms.ToTensor(),\n",
    "        transforms.Normalize((0.1307,), (0.3081,))\n",
    "    ])\n",
    "\n",
    "    dataset = datasets.MNIST(root=\"./data\", train=True, download=True, transform=transform)\n",
    "    loader = DataLoader(dataset, batch_size=64, shuffle=True)\n",
    "\n",
    "    model = nn.Sequential(\n",
    "        nn.Flatten(),\n",
    "        nn.Linear(28*28, 128),\n",
    "        nn.ReLU(),\n",
    "        nn.Linear(128, 10)\n",
    "    )\n",
    "    criterion = nn.CrossEntropyLoss()\n",
    "    optimizer = optim.SGD(model.parameters(), lr=learning_rate)\n",
    "\n",
    "    for epoch in range(1):\n",
    "        for batch_idx, (data, target) in enumerate(loader):\n",
    "            optimizer.zero_grad()\n",
    "            outputs = model(data)\n",
    "            loss = criterion(outputs, target)\n",
    "            loss.backward()\n",
    "            optimizer.step()\n",
    "            if batch_idx % 100 == 0:\n",
    "                print(f\"Batch {batch_idx}, Loss: {loss.item():.4f}\")\n",
    "\n",
    "    return model.state_dict()\n",
    "\n",
    "print(\"Iniciando entrenamiento distribuido MNIST...\")\n",
    "distributor = TorchDistributor(\n",
    "    local_mode=False,  # Windows o testing rápido\n",
    "    use_gpu=False\n",
    ")\n",
    "\n",
    "result = distributor.run(train_model_mnist, 0.01)\n",
    "\n",
    "print(\"\\nParámetros entrenados:\")\n",
    "print(f\"Keys: {list(result.keys())}\")\n",
    "\n"
   ]
  },
  {
   "cell_type": "code",
   "execution_count": 14,
   "metadata": {},
   "outputs": [
    {
     "data": {
      "text/plain": [
       "OrderedDict([('1.weight',\n",
       "              tensor([[-0.0306, -0.0206,  0.0153,  ..., -0.0232,  0.0227, -0.0119],\n",
       "                      [ 0.0142, -0.0227,  0.0167,  ...,  0.0092, -0.0351, -0.0044],\n",
       "                      [-0.0294, -0.0043, -0.0154,  ..., -0.0076,  0.0008,  0.0280],\n",
       "                      ...,\n",
       "                      [ 0.0350,  0.0029,  0.0318,  ..., -0.0172,  0.0243,  0.0155],\n",
       "                      [-0.0240, -0.0211, -0.0222,  ..., -0.0028, -0.0185,  0.0260],\n",
       "                      [ 0.0327,  0.0255, -0.0008,  ...,  0.0308, -0.0249,  0.0316]])),\n",
       "             ('1.bias',\n",
       "              tensor([-1.2102e-02, -2.9096e-02, -1.1413e-02,  3.4702e-03,  3.8509e-02,\n",
       "                       1.0785e-02,  2.8844e-02,  2.7435e-02,  1.1257e-02, -8.2955e-03,\n",
       "                       2.1866e-02, -9.2088e-04, -3.1710e-02, -1.6428e-02,  1.3233e-02,\n",
       "                       1.5249e-02,  6.8914e-03,  3.8909e-02,  2.0999e-02,  3.4600e-02,\n",
       "                       5.5780e-03,  3.0077e-02,  1.2421e-02,  1.9041e-02,  3.9507e-02,\n",
       "                       2.4163e-02, -1.7178e-02, -1.0970e-02, -1.4031e-04, -8.8551e-03,\n",
       "                      -3.5644e-02,  8.6339e-03, -1.6150e-04,  1.6911e-02,  3.2105e-02,\n",
       "                       5.5073e-03, -9.3380e-03,  2.9820e-02, -6.4565e-03, -2.6372e-02,\n",
       "                      -2.0612e-02,  1.1649e-02,  2.4602e-03,  9.7174e-03, -2.1926e-02,\n",
       "                       2.1212e-02,  1.7295e-02, -2.4148e-02,  1.3445e-02, -2.1372e-02,\n",
       "                       4.1721e-02,  9.2463e-04,  3.8339e-03,  1.8014e-02, -9.9609e-04,\n",
       "                      -2.6365e-03, -2.8196e-02, -3.1207e-02,  2.6249e-02,  1.4911e-03,\n",
       "                      -9.4176e-03,  2.2895e-02, -1.9281e-02,  3.4163e-02, -1.0416e-02,\n",
       "                      -4.3979e-03,  1.3703e-02,  1.8771e-02,  1.3840e-02, -2.0926e-02,\n",
       "                      -1.8559e-03, -1.8371e-02,  5.9695e-05, -2.2867e-02,  2.7869e-02,\n",
       "                       2.9428e-02, -2.3978e-02, -9.9175e-03,  3.0693e-02,  1.7565e-02,\n",
       "                       2.1299e-02, -3.8009e-03, -5.9874e-03, -2.4024e-02, -2.1508e-02,\n",
       "                      -4.9540e-04,  1.8662e-02, -4.5570e-03,  2.0641e-02,  1.9701e-02,\n",
       "                       3.4205e-02,  2.9291e-02,  2.5728e-02, -2.4018e-02,  3.2390e-02,\n",
       "                      -4.0607e-03, -4.2649e-03,  1.4037e-03, -2.6442e-02, -1.5021e-02,\n",
       "                       2.6118e-02,  2.2031e-02, -1.0762e-02, -2.0780e-02,  1.6627e-02,\n",
       "                       7.5823e-03,  7.9432e-03, -2.4767e-02,  1.3445e-02,  1.9565e-02,\n",
       "                       1.1542e-02,  7.6608e-03,  1.8122e-02,  3.0533e-02, -1.6598e-02,\n",
       "                      -2.1765e-02, -1.1743e-02, -1.6159e-02,  2.1438e-02, -2.6222e-02,\n",
       "                      -1.0560e-02,  1.9797e-02,  3.3220e-02, -1.1659e-02,  1.3861e-02,\n",
       "                      -3.3899e-02,  1.5593e-02, -2.3009e-02])),\n",
       "             ('3.weight',\n",
       "              tensor([[ 0.1629, -0.0245, -0.0712,  ..., -0.0698,  0.1022,  0.1596],\n",
       "                      [-0.1126, -0.1016,  0.2079,  ...,  0.0549, -0.0633, -0.0495],\n",
       "                      [-0.1193, -0.0409,  0.1318,  ...,  0.0239, -0.0945, -0.0279],\n",
       "                      ...,\n",
       "                      [ 0.0685, -0.0319,  0.0671,  ...,  0.0385,  0.0986,  0.0249],\n",
       "                      [-0.0011,  0.0547, -0.0023,  ...,  0.0205,  0.0129,  0.0557],\n",
       "                      [-0.0778, -0.0781, -0.0902,  ...,  0.0085,  0.0354, -0.0514]])),\n",
       "             ('3.bias',\n",
       "              tensor([-0.0801, -0.0447,  0.0549, -0.0459,  0.0524,  0.0721, -0.0318,  0.0440,\n",
       "                      -0.0892, -0.0093]))])"
      ]
     },
     "execution_count": 14,
     "metadata": {},
     "output_type": "execute_result"
    }
   ],
   "source": [
    "result"
   ]
  },
  {
   "cell_type": "code",
   "execution_count": 17,
   "metadata": {},
   "outputs": [
    {
     "name": "stdout",
     "output_type": "stream",
     "text": [
      "Precisión en test MNIST: 91.05%\n"
     ]
    },
    {
     "data": {
      "text/plain": [
       "0.9105"
      ]
     },
     "execution_count": 17,
     "metadata": {},
     "output_type": "execute_result"
    }
   ],
   "source": [
    "from torchvision import datasets, transforms\n",
    "from torch.utils.data import DataLoader\n",
    "import torch.nn.functional as F\n",
    "import torch\n",
    "\n",
    "def test_model_mnist(model_state):\n",
    "    # Transformación para test\n",
    "    transform = transforms.Compose([\n",
    "        transforms.ToTensor(),\n",
    "        transforms.Normalize((0.1307,), (0.3081,))\n",
    "    ])\n",
    "    \n",
    "    test_dataset = datasets.MNIST(root=\"./data\", train=False, download=True, transform=transform)\n",
    "    test_loader = DataLoader(test_dataset, batch_size=1000, shuffle=False)\n",
    "\n",
    "    # Definimos mismo modelo que entrenamos\n",
    "    model = nn.Sequential(\n",
    "        nn.Flatten(),\n",
    "        nn.Linear(28*28, 128),\n",
    "        nn.ReLU(),\n",
    "        nn.Linear(128, 10)\n",
    "    )\n",
    "    model.load_state_dict(model_state)\n",
    "    model.eval()\n",
    "\n",
    "    correct = 0\n",
    "    total = 0\n",
    "    with torch.no_grad():\n",
    "        for data, target in test_loader:\n",
    "            outputs = model(data)\n",
    "            pred = outputs.argmax(dim=1, keepdim=True)\n",
    "            correct += pred.eq(target.view_as(pred)).sum().item()\n",
    "            total += target.size(0)\n",
    "    \n",
    "    accuracy = correct / total\n",
    "    print(f\"Precisión en test MNIST: {accuracy*100:.2f}%\")\n",
    "    return accuracy\n",
    "\n",
    "# Ejemplo de uso\n",
    "test_model_mnist(result)\n"
   ]
  },
  {
   "cell_type": "code",
   "execution_count": 18,
   "metadata": {},
   "outputs": [
    {
     "data": {
      "image/png": "[encoded data removed]",
      "text/plain": [
       "<Figure size 1000x200 with 5 Axes>"
      ]
     },
     "metadata": {},
     "output_type": "display_data"
    }
   ],
   "source": [
    "import matplotlib.pyplot as plt\n",
    "from torchvision import datasets, transforms\n",
    "from torch.utils.data import DataLoader\n",
    "import torch\n",
    "import torch.nn as nn\n",
    "\n",
    "def visualize_predictions(model_state, n_images=5):\n",
    "    # Transformación igual que durante entrenamiento\n",
    "    transform = transforms.Compose([\n",
    "        transforms.ToTensor(),\n",
    "        transforms.Normalize((0.1307,), (0.3081,))\n",
    "    ])\n",
    "    \n",
    "    test_dataset = datasets.MNIST(root=\"./data\", train=False, download=True, transform=transform)\n",
    "    test_loader = DataLoader(test_dataset, batch_size=n_images, shuffle=True)\n",
    "\n",
    "    # Definimos el mismo modelo que entrenamos\n",
    "    model = nn.Sequential(\n",
    "        nn.Flatten(),\n",
    "        nn.Linear(28*28, 128),\n",
    "        nn.ReLU(),\n",
    "        nn.Linear(128, 10)\n",
    "    )\n",
    "    model.load_state_dict(model_state)\n",
    "    model.eval()\n",
    "\n",
    "    # Tomamos un batch de n_images\n",
    "    images, labels = next(iter(test_loader))\n",
    "    with torch.no_grad():\n",
    "        outputs = model(images)\n",
    "        preds = outputs.argmax(dim=1)\n",
    "\n",
    "    # Mostrar imágenes y predicciones\n",
    "    fig, axes = plt.subplots(1, n_images, figsize=(n_images*2, 2))\n",
    "    for i in range(n_images):\n",
    "        axes[i].imshow(images[i].squeeze(), cmap='gray')\n",
    "        axes[i].set_title(f\"P: {preds[i].item()}\")\n",
    "        axes[i].axis('off')\n",
    "    plt.show()\n",
    "\n",
    "# Usar la función\n",
    "visualize_predictions(result, n_images=5)\n"
   ]
  },
  {
   "cell_type": "code",
   "execution_count": 19,
   "metadata": {},
   "outputs": [
    {
     "data": {
      "text/html": [
       "\n",
       "            <div>\n",
       "                <p><b>SparkSession - in-memory</b></p>\n",
       "                \n",
       "        <div>\n",
       "            <p><b>SparkContext</b></p>\n",
       "\n",
       "            <p><a href=\"http://172.22.139.79:4041\">Spark UI</a></p>\n",
       "\n",
       "            <dl>\n",
       "              <dt>Version</dt>\n",
       "                <dd><code>v4.0.0</code></dd>\n",
       "              <dt>Master</dt>\n",
       "                <dd><code>spark://localhost:7077</code></dd>\n",
       "              <dt>AppName</dt>\n",
       "                <dd><code>AppCLusterCompose</code></dd>\n",
       "            </dl>\n",
       "        </div>\n",
       "        \n",
       "            </div>\n",
       "        "
      ],
      "text/plain": [
       "<pyspark.sql.session.SparkSession at 0x70461c9ac110>"
      ]
     },
     "execution_count": 19,
     "metadata": {},
     "output_type": "execute_result"
    }
   ],
   "source": [
    "distributor.spark"
   ]
  },
  {
   "cell_type": "code",
   "execution_count": 20,
   "metadata": {},
   "outputs": [
    {
     "name": "stderr",
     "output_type": "stream",
     "text": [
      "Started distributed training with 1 executor processes\n",
      "Downloading http://yann.lecun.com/exdb/mnist/train-images-idx3-ubyte.gz+ 1) / 1]\n",
      "Failed to download (trying next):\n",
      "HTTP Error 404: Not Found\n",
      "\n",
      "Downloading https://ossci-datasets.s3.amazonaws.com/mnist/train-images-idx3-ubyte.gz\n",
      "Downloading https://ossci-datasets.s3.amazonaws.com/mnist/train-images-idx3-ubyte.gz to ./data/MNIST/raw/train-images-idx3-ubyte.gz\n",
      "100.0%\n",
      "Extracting ./data/MNIST/raw/train-images-idx3-ubyte.gz to ./data/MNIST/raw\n",
      "\n",
      "Downloading http://yann.lecun.com/exdb/mnist/train-labels-idx1-ubyte.gz\n",
      "Failed to download (trying next):\n",
      "HTTP Error 404: Not Found\n",
      "\n",
      "Downloading https://ossci-datasets.s3.amazonaws.com/mnist/train-labels-idx1-ubyte.gz\n",
      "Downloading https://ossci-datasets.s3.amazonaws.com/mnist/train-labels-idx1-ubyte.gz to ./data/MNIST/raw/train-labels-idx1-ubyte.gz\n",
      "100.0%\n",
      "Extracting ./data/MNIST/raw/train-labels-idx1-ubyte.gz to ./data/MNIST/raw\n",
      "\n",
      "Downloading http://yann.lecun.com/exdb/mnist/t10k-images-idx3-ubyte.gz\n",
      "Failed to download (trying next):\n",
      "HTTP Error 404: Not Found\n",
      "\n",
      "Downloading https://ossci-datasets.s3.amazonaws.com/mnist/t10k-images-idx3-ubyte.gz\n",
      "Downloading https://ossci-datasets.s3.amazonaws.com/mnist/t10k-images-idx3-ubyte.gz to ./data/MNIST/raw/t10k-images-idx3-ubyte.gz\n",
      "100.0%\n",
      "Extracting ./data/MNIST/raw/t10k-images-idx3-ubyte.gz to ./data/MNIST/raw\n",
      "\n",
      "Downloading http://yann.lecun.com/exdb/mnist/t10k-labels-idx1-ubyte.gz\n",
      "Failed to download (trying next):\n",
      "HTTP Error 404: Not Found\n",
      "\n",
      "Downloading https://ossci-datasets.s3.amazonaws.com/mnist/t10k-labels-idx1-ubyte.gz\n",
      "Downloading https://ossci-datasets.s3.amazonaws.com/mnist/t10k-labels-idx1-ubyte.gz to ./data/MNIST/raw/t10k-labels-idx1-ubyte.gz\n",
      "100.0%\n",
      "Extracting ./data/MNIST/raw/t10k-labels-idx1-ubyte.gz to ./data/MNIST/raw\n",
      "\n",
      "[Rank 0] Epoch 0 Loss 0.1270                                        (0 + 1) / 1]\n",
      "[Rank 0] Epoch 1 Loss 0.0016                                        (0 + 1) / 1]\n",
      "[Rank 0] Epoch 2 Loss 0.0002                                        (0 + 1) / 1]\n",
      "Finished distributed training with 1 executor processes                         \n"
     ]
    }
   ],
   "source": [
    "# mnist_spark_ddp.py\n",
    "import torch\n",
    "import torch.nn as nn\n",
    "import torch.nn.functional as F\n",
    "import torch.optim as optim\n",
    "from torchvision import datasets, transforms\n",
    "from torch.utils.data import DataLoader, DistributedSampler\n",
    "from pyspark.sql import SparkSession\n",
    "\n",
    "\n",
    "# --- 1. Simple CNN for MNIST ---\n",
    "class SimpleCNN(nn.Module):\n",
    "    def __init__(self):\n",
    "        super(SimpleCNN, self).__init__()\n",
    "        self.conv1 = nn.Conv2d(1, 32, 3, 1)\n",
    "        self.conv2 = nn.Conv2d(32, 64, 3, 1)\n",
    "        self.fc1 = nn.Linear(9216, 128)\n",
    "        self.fc2 = nn.Linear(128, 10)\n",
    "\n",
    "    def forward(self, x):\n",
    "        x = F.relu(self.conv1(x))\n",
    "        x = F.relu(self.conv2(x))\n",
    "        x = F.max_pool2d(x, 2)\n",
    "        x = torch.flatten(x, 1)\n",
    "        x = F.relu(self.fc1(x))\n",
    "        x = self.fc2(x)\n",
    "        return x\n",
    "\n",
    "# --- 2. Training function ---\n",
    "def train():\n",
    "    # Each worker automatically gets rank/world_size from TorchDistributor\n",
    "    rank = int(os.environ[\"RANK\"])\n",
    "    world_size = int(os.environ[\"WORLD_SIZE\"])\n",
    "\n",
    "    torch.manual_seed(42)\n",
    "\n",
    "    # Dataset + DistributedSampler\n",
    "    transform = transforms.Compose([transforms.ToTensor()])\n",
    "    dataset = datasets.MNIST(root=\"./data\", train=True, download=True, transform=transform)\n",
    "    sampler = DistributedSampler(dataset, num_replicas=world_size, rank=rank, shuffle=True)\n",
    "    loader = DataLoader(dataset, batch_size=64, sampler=sampler)\n",
    "\n",
    "    # Model + DDP\n",
    "    model = SimpleCNN()\n",
    "    if world_size > 1:\n",
    "        model = nn.parallel.DistributedDataParallel(model)\n",
    "\n",
    "    optimizer = optim.Adam(model.parameters(), lr=0.001)\n",
    "\n",
    "    # Training loop\n",
    "    for epoch in range(3):\n",
    "        sampler.set_epoch(epoch)  # important for shuffling each epoch\n",
    "        for batch_idx, (data, target) in enumerate(loader):\n",
    "            optimizer.zero_grad()\n",
    "            output = model(data)\n",
    "            loss = F.cross_entropy(output, target)\n",
    "            loss.backward()\n",
    "            optimizer.step()\n",
    "        print(f\"[Rank {rank}] Epoch {epoch} Loss {loss.item():.4f}\")\n",
    "\n",
    "# --- 3. Spark + TorchDistributor ---\n",
    "\n",
    "world_size = 2  # set number of Spark workers\n",
    "distributor = distributor = TorchDistributor(\n",
    "    local_mode=False,  # Windows o testing rápido\n",
    "    use_gpu=False\n",
    ")\n",
    "\n",
    "# Run training in distributed mode\n",
    "result =distributor.run(train)\n",
    "\n",
    "#spark.stop()\n"
   ]
  },
  {
   "cell_type": "code",
   "execution_count": 21,
   "metadata": {},
   "outputs": [
    {
     "name": "stderr",
     "output_type": "stream",
     "text": [
      "Started distributed training with 1 executor processes                          \n",
      "Epoch 1, Loss: 0.1011                                               (0 + 1) / 1]\n",
      "Epoch 2, Loss: 0.0879\n",
      "Epoch 3, Loss: 0.0843\n",
      "Epoch 4, Loss: 0.0849\n",
      "Epoch 5, Loss: 0.0830\n",
      "Finished distributed training with 1 executor processes                         \n"
     ]
    },
    {
     "name": "stdout",
     "output_type": "stream",
     "text": [
      "\n",
      "Entrenamiento distribuido finalizado.\n",
      "Claves del modelo entrenado: ['0.weight', '0.bias', '2.weight', '2.bias']\n"
     ]
    },
    {
     "data": {
      "image/png": "[encoded data removed]",
      "text/plain": [
       "<Figure size 640x480 with 1 Axes>"
      ]
     },
     "metadata": {},
     "output_type": "display_data"
    },
    {
     "data": {
      "image/png": "[encoded data removed]",
      "text/plain": [
       "<Figure size 640x480 with 1 Axes>"
      ]
     },
     "metadata": {},
     "output_type": "display_data"
    },
    {
     "data": {
      "image/png": "[encoded data removed]",
      "text/plain": [
       "<Figure size 640x480 with 1 Axes>"
      ]
     },
     "metadata": {},
     "output_type": "display_data"
    },
    {
     "data": {
      "image/png": "[encoded data removed]",
      "text/plain": [
       "<Figure size 640x480 with 1 Axes>"
      ]
     },
     "metadata": {},
     "output_type": "display_data"
    },
    {
     "data": {
      "image/png": "[encoded data removed]",
      "text/plain": [
       "<Figure size 640x480 with 1 Axes>"
      ]
     },
     "metadata": {},
     "output_type": "display_data"
    }
   ],
   "source": [
    "from pyspark.ml.torch.distributor import TorchDistributor\n",
    "import torch\n",
    "import torch.nn as nn\n",
    "import torch.optim as optim\n",
    "from torch.utils.data import Dataset, DataLoader\n",
    "from pyspark.ml.feature import VectorAssembler\n",
    "\n",
    "# -----------------------------\n",
    "# 1. Crear datos sintéticos en Spark\n",
    "# -----------------------------\n",
    "import pyspark.sql.functions as F\n",
    "from pyspark.sql import SparkSession\n",
    "\n",
    "# spark ya está definido\n",
    "num_features = 10\n",
    "num_samples = 1000\n",
    "\n",
    "# Generamos datos sintéticos\n",
    "df = spark.range(num_samples).withColumn(\"y\", F.rand())\n",
    "for i in range(num_features):\n",
    "    df = df.withColumn(f\"x{i}\", F.rand())\n",
    "\n",
    "# Vectorización con Spark\n",
    "assembler = VectorAssembler(inputCols=[f\"x{i}\" for i in range(num_features)], outputCol=\"features\")\n",
    "df = assembler.transform(df)\n",
    "\n",
    "# -----------------------------\n",
    "# 2. Convertir a Dataset de PyTorch\n",
    "# -----------------------------\n",
    "class ListDataset(Dataset):\n",
    "    def __init__(self, data_list):\n",
    "        self.data_list = data_list\n",
    "    def __len__(self):\n",
    "        return len(self.data_list)\n",
    "    def __getitem__(self, idx):\n",
    "        return self.data_list[idx]\n",
    "\n",
    "# Convertir a lista de tuplas (features_tensor, target_tensor)\n",
    "data_list = df.select(\"features\", \"y\").rdd.map(\n",
    "    lambda row: (torch.tensor(row[\"features\"], dtype=torch.float32),\n",
    "                 torch.tensor([row[\"y\"]], dtype=torch.float32))\n",
    ").collect()\n",
    "\n",
    "dataset = ListDataset(data_list)\n",
    "\n",
    "# -----------------------------\n",
    "# 3. Definir modelo y entrenamiento\n",
    "# -----------------------------\n",
    "def train_model(lr=0.01):\n",
    "    model = nn.Sequential(\n",
    "        nn.Linear(num_features, 64),\n",
    "        nn.ReLU(),\n",
    "        nn.Linear(64, 1)\n",
    "    )\n",
    "    criterion = nn.MSELoss()\n",
    "    optimizer = optim.Adam(model.parameters(), lr=lr)\n",
    "    \n",
    "    loader = DataLoader(dataset, batch_size=32, shuffle=True)\n",
    "    \n",
    "    for epoch in range(5):  # pocos epochs para prueba\n",
    "        epoch_loss = 0.0\n",
    "        for X_batch, y_batch in loader:\n",
    "            optimizer.zero_grad()\n",
    "            y_pred = model(X_batch)\n",
    "            loss = criterion(y_pred, y_batch)\n",
    "            loss.backward()\n",
    "            optimizer.step()\n",
    "            epoch_loss += loss.item() * X_batch.size(0)\n",
    "        print(f\"Epoch {epoch+1}, Loss: {epoch_loss/len(loader.dataset):.4f}\")\n",
    "    \n",
    "    return model.state_dict(), model  # devolvemos también el modelo entrenado\n",
    "\n",
    "# -----------------------------\n",
    "# 4. Entrenamiento distribuido\n",
    "# -----------------------------\n",
    "distributor = TorchDistributor(local_mode=False, use_gpu=False)\n",
    "state_dict, trained_model = distributor.run(train_model, 0.01)\n",
    "\n",
    "print(\"\\nEntrenamiento distribuido finalizado.\")\n",
    "print(f\"Claves del modelo entrenado: {list(state_dict.keys())}\")\n",
    "\n",
    "# -----------------------------\n",
    "# 5. Prueba con 5 muestras\n",
    "# -----------------------------\n",
    "import matplotlib.pyplot as plt\n",
    "\n",
    "test_samples = dataset[:5]  # primeras 5\n",
    "X_test = torch.stack([x for x, y in test_samples])\n",
    "y_test = torch.stack([y for x, y in test_samples])\n",
    "\n",
    "with torch.no_grad():\n",
    "    y_pred = trained_model(X_test)\n",
    "\n",
    "# Mostrar resultados\n",
    "for i in range(5):\n",
    "    plt.figure()\n",
    "    plt.bar([\"y_true\", \"y_pred\"], [y_test[i].item(), y_pred[i].item()])\n",
    "    plt.title(f\"Muestra {i+1}\")\n",
    "    plt.show()\n"
   ]
  },
  {
   "cell_type": "code",
   "execution_count": 22,
   "metadata": {},
   "outputs": [
    {
     "ename": "NameError",
     "evalue": "name 'ascme' is not defined",
     "output_type": "error",
     "traceback": [
      "\u001b[31m---------------------------------------------------------------------------\u001b[39m",
      "\u001b[31mNameError\u001b[39m                                 Traceback (most recent call last)",
      "\u001b[36mCell\u001b[39m\u001b[36m \u001b[39m\u001b[32mIn[22]\u001b[39m\u001b[32m, line 1\u001b[39m\n\u001b[32m----> \u001b[39m\u001b[32m1\u001b[39m \u001b[38;5;28mprint\u001b[39m (\u001b[43mascme\u001b[49m)\n\u001b[32m      2\u001b[39m spark.stop()\n",
      "\u001b[31mNameError\u001b[39m: name 'ascme' is not defined"
     ]
    }
   ],
   "source": [
    "print (ascme)\n",
    "spark.stop()"
   ]
  },
  {
   "cell_type": "code",
   "execution_count": null,
   "metadata": {},
   "outputs": [],
   "source": [
    "df.write.mode(\"overwrite\").parquet(\"file:/mnt/volume/test_parquet3bz\")\n"
   ]
  },
  {
   "cell_type": "code",
   "execution_count": null,
   "metadata": {},
   "outputs": [],
   "source": [
    "!ls /mnt/volume"
   ]
  },
  {
   "cell_type": "code",
   "execution_count": null,
   "metadata": {},
   "outputs": [],
   "source": [
    "spark"
   ]
  },
  {
   "cell_type": "code",
   "execution_count": null,
   "metadata": {},
   "outputs": [],
   "source": [
    "df"
   ]
  },
  {
   "cell_type": "code",
   "execution_count": null,
   "metadata": {},
   "outputs": [],
   "source": [
    "import shutil, os\n",
    "\n",
    "path = \"/mnt/volume/test_parquet\"\n",
    "if os.path.exists(path):\n",
    "    shutil.rmtree(path)\n",
    "\n",
    "df.write.parquet(f\"file://{path}\")"
   ]
  },
  {
   "cell_type": "code",
   "execution_count": null,
   "metadata": {},
   "outputs": [],
   "source": [
    "df2 = spark.read.parquet(f\"file://{path}\")\n",
    "df2.show()"
   ]
  },
  {
   "cell_type": "code",
   "execution_count": null,
   "metadata": {},
   "outputs": [],
   "source": [
    "#df.write.mode(\"overwrite\").parquet(\"hdfs://master:9000/user/spark/test_parquet\")\n",
    "import shutil, os\n",
    "path = \"/mnt/volume/test_parquet\"\n",
    "if os.path.exists(path):\n",
    "    shutil.rmtree(path)\n",
    "\n",
    "df.write.mode(\"overwrite\").parquet(f\"file://{path}\")\n",
    "\n",
    "df.write.mode(\"overwrite\").parquet(\"file:///mnt/volume/test_parquet\")\n",
    "#df.write.mode(\"overwrite\").parquet(\"/user/spark/test_parquet\")"
   ]
  },
  {
   "cell_type": "code",
   "execution_count": null,
   "metadata": {},
   "outputs": [],
   "source": [
    "df =  spark.read.format(\"csv\").option(\"inferSchema\",\"true\").option(\"sep\",\";\").option(\"header\",\"true\").load('file:/mnt/volume/10-2021.csv')"
   ]
  },
  {
   "cell_type": "code",
   "execution_count": null,
   "metadata": {},
   "outputs": [],
   "source": [
    "df.write.mode(\"overwrite\").parquet(\"hdfs://localhost:9000/user/spark/test_parquet\")"
   ]
  },
  {
   "cell_type": "code",
   "execution_count": null,
   "metadata": {},
   "outputs": [],
   "source": [
    "df.coalesce(1).write.mode(\"overwrite\").parquet(\"file:/mnt/volume/test_parquet\")\n"
   ]
  },
  {
   "cell_type": "code",
   "execution_count": null,
   "metadata": {},
   "outputs": [],
   "source": [
    "df.write.mode(\"overwrite\").parquet(\"/user/spark\")\n"
   ]
  },
  {
   "cell_type": "code",
   "execution_count": null,
   "metadata": {},
   "outputs": [],
   "source": [
    "df.write.mode(\"overwrite\").parquet(\"/user/spark/test_parquet\")\n"
   ]
  },
  {
   "cell_type": "code",
   "execution_count": null,
   "metadata": {},
   "outputs": [],
   "source": [
    "spark.stop()"
   ]
  },
  {
   "cell_type": "code",
   "execution_count": null,
   "metadata": {},
   "outputs": [],
   "source": [
    "\n",
    "spark = SparkSession.builder \\\n",
    "    .appName(\"TestHDFS\") \\\n",
    "    .master('spark://localhost:7077') \\\n",
    "    .config(\"spark.hadoop.fs.defaultFS\", \"hdfs://localhost:9000\") \\\n",
    "    .config(\"spark.hadoop.conf.dir\", \"/home/juanma/hadoop-conf\") \\\n",
    "    .getOrCreate()"
   ]
  },
  {
   "cell_type": "code",
   "execution_count": null,
   "metadata": {},
   "outputs": [],
   "source": [
    "df =  spark.read.format(\"csv\").option(\"inferSchema\",\"true\").option(\"sep\",\";\").option(\"header\",\"true\").load('file:/mnt/volume/10-2021.csv')"
   ]
  },
  {
   "cell_type": "code",
   "execution_count": null,
   "metadata": {},
   "outputs": [],
   "source": [
    "df.show()"
   ]
  },
  {
   "cell_type": "code",
   "execution_count": null,
   "metadata": {},
   "outputs": [],
   "source": [
    "from pyspark.sql import SparkSession\n",
    "import os\n",
    "os.environ['HADOOP_USER_NAME'] = 'juanma'\n",
    "\n",
    "spark = SparkSession.builder \\\n",
    "    .appName(\"JupyterHDFS\") \\\n",
    "    .master('spark://localhost:7077') \\\n",
    "    .config(\"spark.hadoop.fs.defaultFS\", \"hdfs://localhost:9000\") \\\n",
    "    .getOrCreate()"
   ]
  },
  {
   "cell_type": "code",
   "execution_count": null,
   "metadata": {},
   "outputs": [],
   "source": [
    "spark"
   ]
  },
  {
   "cell_type": "code",
   "execution_count": null,
   "metadata": {},
   "outputs": [],
   "source": [
    "df =  spark.read.format(\"csv\").option(\"inferSchema\",\"true\").option(\"sep\",\";\").option(\"header\",\"true\").load('file:/mnt/volume/10-2021.csv')\n",
    "df.show()"
   ]
  },
  {
   "cell_type": "code",
   "execution_count": null,
   "metadata": {},
   "outputs": [],
   "source": [
    "df.write.mode(\"overwrite\").parquet(\"hdfs://localhost:9000/user/spark/test_parquet\")\n"
   ]
  },
  {
   "cell_type": "code",
   "execution_count": null,
   "metadata": {},
   "outputs": [],
   "source": []
  },
  {
   "cell_type": "code",
   "execution_count": null,
   "metadata": {},
   "outputs": [],
   "source": []
  }
 ],
 "metadata": {
  "kernelspec": {
   "display_name": "tfm",
   "language": "python",
   "name": "python3"
  },
  "language_info": {
   "codemirror_mode": {
    "name": "ipython",
    "version": 3
   },
   "file_extension": ".py",
   "mimetype": "text/x-python",
   "name": "python",
   "nbconvert_exporter": "python",
   "pygments_lexer": "ipython3",
   "version": "3.11.13"
  }
 },
 "nbformat": 4,
 "nbformat_minor": 2
}
