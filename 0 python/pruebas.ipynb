{
 "cells": [
  {
   "cell_type": "markdown",
   "metadata": {},
   "source": [
    "### Con este fichero hacemos unas pruebas básicas para comprobar que Spark está correctamente funcionando\n",
    "\n",
    "Los ficheros de datos deben estar en /mnt/volume/cvs_ok/"
   ]
  },
  {
   "cell_type": "code",
   "execution_count": 1,
   "metadata": {},
   "outputs": [],
   "source": [
    "import pyspark\n",
    "import numpy as np\n",
    "import pandas as pd\n",
    "import sys\n",
    "import os"
   ]
  },
  {
   "cell_type": "code",
   "execution_count": 2,
   "metadata": {},
   "outputs": [
    {
     "name": "stdout",
     "output_type": "stream",
     "text": [
      "4.0.0\n",
      "1.26.0\n",
      "2.3.1\n",
      "3.11.13 | packaged by conda-forge | (main, Jun  4 2025, 14:48:23) [GCC 13.3.0]\n"
     ]
    }
   ],
   "source": [
    "print (pyspark.__version__)   \n",
    "print (np.__version__)\n",
    "print (pd.__version__)\n",
    "print (sys.version)\n"
   ]
  },
  {
   "cell_type": "code",
   "execution_count": 3,
   "metadata": {},
   "outputs": [
    {
     "data": {
      "text/plain": [
       "[('local[*]',\n",
       "  'AppCLusterLocal',\n",
       "  '/media/juanma/spark/datos/cvs_ok/2021/10-2021.csv'),\n",
       " ('spark://localhost:7077',\n",
       "  'AppCLusterCompose',\n",
       "  '/mnt/volume/cvs_ok/2021/10-2021.csv')]"
      ]
     },
     "execution_count": 3,
     "metadata": {},
     "output_type": "execute_result"
    }
   ],
   "source": [
    "entornos = []\n",
    "#local = ('local[*]','AppCLusterLocal','/Users/Juanma/Desktop/work-consolidado/10-2021.csv')\n",
    "local = ('local[*]','AppCLusterLocal','/media/juanma/spark/datos/cvs_ok/2021/10-2021.csv')\n",
    "compose = ('spark://localhost:7077','AppCLusterCompose','/mnt/volume/cvs_ok/2021/10-2021.csv')\n",
    "entornos.append(local)\n",
    "entornos.append(compose)\n",
    "fichero = ''\n",
    "entornos"
   ]
  },
  {
   "cell_type": "code",
   "execution_count": 4,
   "metadata": {},
   "outputs": [],
   "source": [
    "from pyspark.sql import SparkSession\n",
    "import pandas as pd\n",
    "\n",
    "global spark\n",
    "\n",
    "def ConexionCluster(entorno=0):\n",
    "# jobs: http://localhost:4040/jobs/\n",
    "    global fichero    \n",
    "    srv = entornos[entorno][0]\n",
    "    app = entornos[entorno][1]\n",
    "    fichero = entornos[entorno][2]    \n",
    "    print (srv)\n",
    "    print (app)\n",
    "    print (fichero)\n",
    "    print ('entorno', entorno)\n",
    "    if entorno > 0:\n",
    "        return SparkSession.builder \\\n",
    "            .appName(app) \\\n",
    "            .master(srv) \\\n",
    "            .config(\"spark.cores.max\", 4)  \\\n",
    "            .config(\"spark.executor.cores\", 2) \\\n",
    "            .config(\"spark.executor.memory\", \"4g\") \\\n",
    "            .config(\"spark.local.dir\",\"/tmp/spark\") \\\n",
    "            .getOrCreate()        \n",
    "    else:\n",
    "        return SparkSession.builder \\\n",
    "            .appName(app) \\\n",
    "            .master(srv) \\\n",
    "            .config(\"spark.local.dir\", \"/mnt/volume/spark-tmp\") \\\n",
    "            .getOrCreate()        \n",
    "\n",
    "def CargaMuestra():\n",
    "    cad = \"file:\" + fichero\n",
    "    print (cad)\n",
    "    return spark.read.format(\"csv\").option(\"inferSchema\",\"true\").option(\"sep\",\";\").option(\"header\",\"true\") \\\n",
    "    .load(cad)"
   ]
  },
  {
   "cell_type": "code",
   "execution_count": 5,
   "metadata": {},
   "outputs": [
    {
     "name": "stdout",
     "output_type": "stream",
     "text": [
      "spark://localhost:7077\n",
      "AppCLusterCompose\n",
      "/mnt/volume/cvs_ok/2021/10-2021.csv\n",
      "entorno 1\n"
     ]
    },
    {
     "name": "stderr",
     "output_type": "stream",
     "text": [
      "WARNING: Using incubator modules: jdk.incubator.vector\n",
      "Using Spark's default log4j profile: org/apache/spark/log4j2-defaults.properties\n",
      "Setting default log level to \"WARN\".\n",
      "To adjust logging level use sc.setLogLevel(newLevel). For SparkR, use setLogLevel(newLevel).\n",
      "25/09/08 21:28:28 WARN NativeCodeLoader: Unable to load native-hadoop library for your platform... using builtin-java classes where applicable\n",
      "25/09/08 21:28:28 WARN SparkConf: Note that spark.local.dir will be overridden by the value set by the cluster manager (via SPARK_LOCAL_DIRS in standalone/kubernetes and LOCAL_DIRS in YARN).\n",
      "25/09/08 21:28:28 WARN Utils: Service 'SparkUI' could not bind on port 4040. Attempting port 4041.\n"
     ]
    },
    {
     "name": "stdout",
     "output_type": "stream",
     "text": [
      "file:/mnt/volume/cvs_ok/2021/10-2021.csv\n"
     ]
    },
    {
     "name": "stderr",
     "output_type": "stream",
     "text": [
      "                                                                                \r"
     ]
    }
   ],
   "source": [
    "spark = ConexionCluster(1)\n",
    "df = CargaMuestra()"
   ]
  },
  {
   "cell_type": "code",
   "execution_count": 6,
   "metadata": {},
   "outputs": [
    {
     "data": {
      "text/html": [
       "\n",
       "            <div>\n",
       "                <p><b>SparkSession - in-memory</b></p>\n",
       "                \n",
       "        <div>\n",
       "            <p><b>SparkContext</b></p>\n",
       "\n",
       "            <p><a href=\"http://172.22.139.79:4041\">Spark UI</a></p>\n",
       "\n",
       "            <dl>\n",
       "              <dt>Version</dt>\n",
       "                <dd><code>v4.0.0</code></dd>\n",
       "              <dt>Master</dt>\n",
       "                <dd><code>spark://localhost:7077</code></dd>\n",
       "              <dt>AppName</dt>\n",
       "                <dd><code>AppCLusterCompose</code></dd>\n",
       "            </dl>\n",
       "        </div>\n",
       "        \n",
       "            </div>\n",
       "        "
      ],
      "text/plain": [
       "<pyspark.sql.session.SparkSession at 0x7322aeb7bf50>"
      ]
     },
     "execution_count": 6,
     "metadata": {},
     "output_type": "execute_result"
    }
   ],
   "source": [
    "spark\n"
   ]
  },
  {
   "cell_type": "code",
   "execution_count": 7,
   "metadata": {},
   "outputs": [
    {
     "name": "stdout",
     "output_type": "stream",
     "text": [
      "+----+-------------------+---------+----------+---------+-----+----+-----+-------------------+\n",
      "|  id|              fecha|tipo_elem|intensidad|ocupacion|carga|vmed|error|periodo_integracion|\n",
      "+----+-------------------+---------+----------+---------+-----+----+-----+-------------------+\n",
      "|  31|2021-10-19 01:45:00|      URB|        20|      0.0|    0| 0.0|    N|                  1|\n",
      "|1001|2021-10-01 00:00:00|      M30|       528|      2.0|    0|58.0|    N|                  5|\n",
      "|1001|2021-10-01 00:15:00|      M30|       516|      1.0|    0|56.0|    N|                  5|\n",
      "|1001|2021-10-01 00:30:00|      M30|       672|      2.0|    0|60.0|    N|                  5|\n",
      "|1001|2021-10-01 00:45:00|      M30|       588|      2.0|    0|61.0|    N|                  5|\n",
      "|1001|2021-10-01 01:00:00|      M30|       432|      1.0|    0|62.0|    N|                  5|\n",
      "|1001|2021-10-01 01:15:00|      M30|       528|      1.0|    0|59.0|    N|                  5|\n",
      "|1001|2021-10-01 01:30:00|      M30|       576|      1.0|    0|58.0|    N|                  5|\n",
      "|1001|2021-10-01 01:45:00|      M30|       312|      1.0|    0|61.0|    N|                  5|\n",
      "|1001|2021-10-01 02:00:00|      M30|       204|      NaN|    0|64.0|    N|                  5|\n",
      "|1001|2021-10-01 02:15:00|      M30|       120|      NaN|    0|65.0|    N|                  5|\n",
      "|1001|2021-10-01 02:30:00|      M30|       132|      NaN|    0|66.0|    N|                  5|\n",
      "|1001|2021-10-01 02:45:00|      M30|        60|      NaN|    0|30.0|    N|                  5|\n",
      "|1001|2021-10-01 03:00:00|      M30|        72|      0.0|    0|23.0|    N|                  5|\n",
      "|1001|2021-10-01 03:15:00|      M30|       120|      1.0|    0|36.0|    N|                  5|\n",
      "|1001|2021-10-01 03:30:00|      M30|       120|      1.0|    0|53.0|    N|                  5|\n",
      "|1001|2021-10-01 03:45:00|      M30|       192|      NaN|    0|60.0|    N|                  5|\n",
      "|1001|2021-10-01 04:00:00|      M30|       192|      NaN|    0|63.0|    N|                  5|\n",
      "|1001|2021-10-01 04:15:00|      M30|        60|      NaN|    0|37.0|    N|                  5|\n",
      "|1001|2021-10-01 04:30:00|      M30|       120|      0.0|    0|47.0|    N|                  5|\n",
      "+----+-------------------+---------+----------+---------+-----+----+-----+-------------------+\n",
      "only showing top 20 rows\n"
     ]
    }
   ],
   "source": [
    "df.show()"
   ]
  },
  {
   "cell_type": "code",
   "execution_count": 8,
   "metadata": {},
   "outputs": [
    {
     "data": {
      "application/vnd.microsoft.datawrangler.viewer.v0+json": {
       "columns": [
        {
         "name": "index",
         "rawType": "int64",
         "type": "integer"
        },
        {
         "name": "id",
         "rawType": "int64",
         "type": "integer"
        },
        {
         "name": "fecha",
         "rawType": "object",
         "type": "string"
        },
        {
         "name": "tipo_elem",
         "rawType": "object",
         "type": "string"
        },
        {
         "name": "intensidad",
         "rawType": "int64",
         "type": "integer"
        },
        {
         "name": "ocupacion",
         "rawType": "float64",
         "type": "float"
        },
        {
         "name": "carga",
         "rawType": "int64",
         "type": "integer"
        },
        {
         "name": "vmed",
         "rawType": "float64",
         "type": "float"
        },
        {
         "name": "error",
         "rawType": "object",
         "type": "string"
        },
        {
         "name": "periodo_integracion",
         "rawType": "int64",
         "type": "integer"
        }
       ],
       "ref": "0c9580fc-734d-42bc-a241-ec9768b7db83",
       "rows": [
        [
         "0",
         "31",
         "2021-10-19 01:45:00",
         "URB",
         "20",
         "0.0",
         "0",
         "0.0",
         "N",
         "1"
        ],
        [
         "1",
         "1001",
         "2021-10-01 00:00:00",
         "M30",
         "528",
         "2.0",
         "0",
         "58.0",
         "N",
         "5"
        ],
        [
         "2",
         "1001",
         "2021-10-01 00:15:00",
         "M30",
         "516",
         "1.0",
         "0",
         "56.0",
         "N",
         "5"
        ],
        [
         "3",
         "1001",
         "2021-10-01 00:30:00",
         "M30",
         "672",
         "2.0",
         "0",
         "60.0",
         "N",
         "5"
        ],
        [
         "4",
         "1001",
         "2021-10-01 00:45:00",
         "M30",
         "588",
         "2.0",
         "0",
         "61.0",
         "N",
         "5"
        ]
       ],
       "shape": {
        "columns": 9,
        "rows": 5
       }
      },
      "text/html": [
       "<div>\n",
       "<style scoped>\n",
       "    .dataframe tbody tr th:only-of-type {\n",
       "        vertical-align: middle;\n",
       "    }\n",
       "\n",
       "    .dataframe tbody tr th {\n",
       "        vertical-align: top;\n",
       "    }\n",
       "\n",
       "    .dataframe thead th {\n",
       "        text-align: right;\n",
       "    }\n",
       "</style>\n",
       "<table border=\"1\" class=\"dataframe\">\n",
       "  <thead>\n",
       "    <tr style=\"text-align: right;\">\n",
       "      <th></th>\n",
       "      <th>id</th>\n",
       "      <th>fecha</th>\n",
       "      <th>tipo_elem</th>\n",
       "      <th>intensidad</th>\n",
       "      <th>ocupacion</th>\n",
       "      <th>carga</th>\n",
       "      <th>vmed</th>\n",
       "      <th>error</th>\n",
       "      <th>periodo_integracion</th>\n",
       "    </tr>\n",
       "  </thead>\n",
       "  <tbody>\n",
       "    <tr>\n",
       "      <th>0</th>\n",
       "      <td>31</td>\n",
       "      <td>2021-10-19 01:45:00</td>\n",
       "      <td>URB</td>\n",
       "      <td>20</td>\n",
       "      <td>0.0</td>\n",
       "      <td>0</td>\n",
       "      <td>0.0</td>\n",
       "      <td>N</td>\n",
       "      <td>1</td>\n",
       "    </tr>\n",
       "    <tr>\n",
       "      <th>1</th>\n",
       "      <td>1001</td>\n",
       "      <td>2021-10-01 00:00:00</td>\n",
       "      <td>M30</td>\n",
       "      <td>528</td>\n",
       "      <td>2.0</td>\n",
       "      <td>0</td>\n",
       "      <td>58.0</td>\n",
       "      <td>N</td>\n",
       "      <td>5</td>\n",
       "    </tr>\n",
       "    <tr>\n",
       "      <th>2</th>\n",
       "      <td>1001</td>\n",
       "      <td>2021-10-01 00:15:00</td>\n",
       "      <td>M30</td>\n",
       "      <td>516</td>\n",
       "      <td>1.0</td>\n",
       "      <td>0</td>\n",
       "      <td>56.0</td>\n",
       "      <td>N</td>\n",
       "      <td>5</td>\n",
       "    </tr>\n",
       "    <tr>\n",
       "      <th>3</th>\n",
       "      <td>1001</td>\n",
       "      <td>2021-10-01 00:30:00</td>\n",
       "      <td>M30</td>\n",
       "      <td>672</td>\n",
       "      <td>2.0</td>\n",
       "      <td>0</td>\n",
       "      <td>60.0</td>\n",
       "      <td>N</td>\n",
       "      <td>5</td>\n",
       "    </tr>\n",
       "    <tr>\n",
       "      <th>4</th>\n",
       "      <td>1001</td>\n",
       "      <td>2021-10-01 00:45:00</td>\n",
       "      <td>M30</td>\n",
       "      <td>588</td>\n",
       "      <td>2.0</td>\n",
       "      <td>0</td>\n",
       "      <td>61.0</td>\n",
       "      <td>N</td>\n",
       "      <td>5</td>\n",
       "    </tr>\n",
       "  </tbody>\n",
       "</table>\n",
       "</div>"
      ],
      "text/plain": [
       "     id                fecha tipo_elem  intensidad  ocupacion  carga  vmed  \\\n",
       "0    31  2021-10-19 01:45:00       URB          20        0.0      0   0.0   \n",
       "1  1001  2021-10-01 00:00:00       M30         528        2.0      0  58.0   \n",
       "2  1001  2021-10-01 00:15:00       M30         516        1.0      0  56.0   \n",
       "3  1001  2021-10-01 00:30:00       M30         672        2.0      0  60.0   \n",
       "4  1001  2021-10-01 00:45:00       M30         588        2.0      0  61.0   \n",
       "\n",
       "  error  periodo_integracion  \n",
       "0     N                    1  \n",
       "1     N                    5  \n",
       "2     N                    5  \n",
       "3     N                    5  \n",
       "4     N                    5  "
      ]
     },
     "execution_count": 8,
     "metadata": {},
     "output_type": "execute_result"
    }
   ],
   "source": [
    "pandas_df = pd.read_csv(fichero,sep=\";\")\n",
    "pandas_df.head()"
   ]
  },
  {
   "cell_type": "code",
   "execution_count": 9,
   "metadata": {},
   "outputs": [],
   "source": [
    "def BateriaSpark():\n",
    "    print(df.printSchema())"
   ]
  },
  {
   "cell_type": "code",
   "execution_count": 10,
   "metadata": {},
   "outputs": [
    {
     "name": "stdout",
     "output_type": "stream",
     "text": [
      "root\n",
      " |-- id: integer (nullable = true)\n",
      " |-- fecha: timestamp (nullable = true)\n",
      " |-- tipo_elem: string (nullable = true)\n",
      " |-- intensidad: integer (nullable = true)\n",
      " |-- ocupacion: double (nullable = true)\n",
      " |-- carga: integer (nullable = true)\n",
      " |-- vmed: double (nullable = true)\n",
      " |-- error: string (nullable = true)\n",
      " |-- periodo_integracion: integer (nullable = true)\n",
      "\n",
      "None\n",
      "✅ Resultados:\n"
     ]
    },
    {
     "name": "stderr",
     "output_type": "stream",
     "text": [
      "[Stage 3:>                                                          (0 + 4) / 4]\r"
     ]
    },
    {
     "name": "stdout",
     "output_type": "stream",
     "text": [
      "[('mundo', 1), ('una', 1), ('prueba', 1), ('con', 1), ('esto', 1), ('es', 1), ('hola', 1), ('spark', 1), ('docker', 1)]\n"
     ]
    },
    {
     "name": "stderr",
     "output_type": "stream",
     "text": [
      "                                                                                \r"
     ]
    }
   ],
   "source": [
    "BateriaSpark()\n",
    "\n",
    "rdd = spark.sparkContext.parallelize([\"hola mundo\", \"esto es una prueba\", \"spark con docker\"])\n",
    "word_counts = rdd.flatMap(lambda line: line.split(\" \")) \\\n",
    "                 .map(lambda word: (word, 1)) \\\n",
    "                 .reduceByKey(lambda a, b: a + b)\n",
    "\n",
    "print(\"✅ Resultados:\")\n",
    "print(word_counts.collect())\n",
    "\n",
    "#spark.stop()"
   ]
  },
  {
   "cell_type": "code",
   "execution_count": 11,
   "metadata": {},
   "outputs": [
    {
     "name": "stdout",
     "output_type": "stream",
     "text": [
      "Iniciando entrenamiento distribuido...\n"
     ]
    },
    {
     "name": "stderr",
     "output_type": "stream",
     "text": [
      "Started distributed training with 1 executor processes\n",
      "Epoch 0, Loss: 1.0347040891647339                                   (0 + 1) / 1]\n",
      "Epoch 1, Loss: 1.0306587219238281\n",
      "Epoch 2, Loss: 1.026824712753296\n",
      "Epoch 3, Loss: 1.0231930017471313\n",
      "Epoch 4, Loss: 1.0197477340698242\n",
      "Epoch 5, Loss: 1.0164779424667358\n",
      "Epoch 6, Loss: 1.0133732557296753\n",
      "Epoch 7, Loss: 1.0104243755340576\n",
      "Epoch 8, Loss: 1.0076243877410889\n",
      "Epoch 9, Loss: 1.0049748420715332\n",
      "Finished distributed training with 1 executor processes                         \n"
     ]
    },
    {
     "name": "stdout",
     "output_type": "stream",
     "text": [
      "\n",
      "Resultado del entrenamiento distribuido:\n",
      "Parámetros del modelo: ['0.weight', '0.bias', '2.weight', '2.bias']\n"
     ]
    }
   ],
   "source": [
    "from pyspark.sql import SparkSession\n",
    "from pyspark.ml.torch.distributor import TorchDistributor\n",
    "import torch\n",
    "import torch.nn as nn\n",
    "import torch.optim as optim\n",
    "\n",
    "#. Configuración especial NECESARIO EN KUBERNETES\n",
    "\n",
    "#os.environ[\"MASTER_ADDR\"] = \"spark-driver-0.spark-driver.default.svc.cluster.local\"\n",
    "#os.environ[\"MASTER_PORT\"] = \"29500\"\n",
    "\n",
    "\n",
    "#- Definir el modelo y función de entrenamiento\n",
    "def train_model(learning_rate=0.01):\n",
    "    # Modelo simple\n",
    "    model = nn.Sequential(\n",
    "        nn.Linear(10, 5),\n",
    "        nn.ReLU(),\n",
    "        nn.Linear(5, 1)\n",
    "    )\n",
    "\n",
    "    # Datos de ejemplo\n",
    "    inputs = torch.randn(100, 10)\n",
    "    targets = torch.randn(100, 1)\n",
    "\n",
    "    # Configuración de entrenamiento\n",
    "    criterion = nn.MSELoss()\n",
    "    optimizer = optim.SGD(model.parameters(), lr=learning_rate)\n",
    "\n",
    "    # Loop de entrenamiento\n",
    "    for epoch in range(10):\n",
    "        optimizer.zero_grad()\n",
    "        outputs = model(inputs)\n",
    "        loss = criterion(outputs, targets)\n",
    "        loss.backward()\n",
    "        optimizer.step()\n",
    "        print(f\"Epoch {epoch}, Loss: {loss.item()}\")\n",
    "\n",
    "    return model.state_dict()\n",
    "\n",
    "#. Usar TorchDistributor\n",
    "print(\"Iniciando entrenamiento distribuido...\")\n",
    "distributor = TorchDistributor(\n",
    "#    num_processes=2,  # Usa 2 procesos (debe ser <= número de cores)\n",
    "    local_mode=False,  \n",
    "    use_gpu=False      # No usar GPU en este ejemplo\n",
    ")\n",
    "\n",
    "# Ejecutar entrenamiento distribuido\n",
    "result = distributor.run(train_model, 0.01)\n",
    "\n",
    "print(\"\\nResultado del entrenamiento distribuido:\")\n",
    "print(f\"Parámetros del modelo: {list(result.keys())}\")\n"
   ]
  },
  {
   "cell_type": "code",
   "execution_count": 12,
   "metadata": {},
   "outputs": [
    {
     "name": "stderr",
     "output_type": "stream",
     "text": [
      "/home/juanma/anaconda3/envs/tfm/lib/python3.11/site-packages/torchvision/io/image.py:13: UserWarning: Failed to load image Python extension: '/home/juanma/anaconda3/envs/tfm/lib/python3.11/site-packages/torchvision/image.so: undefined symbol: _ZN3c1017RegisterOperatorsD1Ev'If you don't plan on using image functionality from `torchvision.io`, you can ignore this warning. Otherwise, there might be something wrong with your environment. Did you have `libjpeg` or `libpng` installed before building `torchvision` from source?\n",
      "  warn(\n"
     ]
    },
    {
     "name": "stdout",
     "output_type": "stream",
     "text": [
      "Iniciando entrenamiento distribuido MNIST...\n"
     ]
    },
    {
     "name": "stderr",
     "output_type": "stream",
     "text": [
      "Started distributed training with 1 executor processes\n",
      "Downloading http://yann.lecun.com/exdb/mnist/train-images-idx3-ubyte.gz+ 1) / 1]\n",
      "Failed to download (trying next):\n",
      "HTTP Error 404: Not Found\n",
      "\n",
      "Downloading https://ossci-datasets.s3.amazonaws.com/mnist/train-images-idx3-ubyte.gz\n",
      "Downloading https://ossci-datasets.s3.amazonaws.com/mnist/train-images-idx3-ubyte.gz to ./data/MNIST/raw/train-images-idx3-ubyte.gz\n",
      "100.0%\n",
      "Extracting ./data/MNIST/raw/train-images-idx3-ubyte.gz to ./data/MNIST/raw\n",
      "\n",
      "Downloading http://yann.lecun.com/exdb/mnist/train-labels-idx1-ubyte.gz\n",
      "Failed to download (trying next):\n",
      "HTTP Error 404: Not Found\n",
      "\n",
      "Downloading https://ossci-datasets.s3.amazonaws.com/mnist/train-labels-idx1-ubyte.gz\n",
      "Downloading https://ossci-datasets.s3.amazonaws.com/mnist/train-labels-idx1-ubyte.gz to ./data/MNIST/raw/train-labels-idx1-ubyte.gz\n",
      "100.0%\n",
      "Extracting ./data/MNIST/raw/train-labels-idx1-ubyte.gz to ./data/MNIST/raw\n",
      "\n",
      "Downloading http://yann.lecun.com/exdb/mnist/t10k-images-idx3-ubyte.gz\n",
      "Failed to download (trying next):\n",
      "HTTP Error 404: Not Found\n",
      "\n",
      "Downloading https://ossci-datasets.s3.amazonaws.com/mnist/t10k-images-idx3-ubyte.gz\n",
      "Downloading https://ossci-datasets.s3.amazonaws.com/mnist/t10k-images-idx3-ubyte.gz to ./data/MNIST/raw/t10k-images-idx3-ubyte.gz\n",
      "100.0%\n",
      "Extracting ./data/MNIST/raw/t10k-images-idx3-ubyte.gz to ./data/MNIST/raw\n",
      "\n",
      "Downloading http://yann.lecun.com/exdb/mnist/t10k-labels-idx1-ubyte.gz\n",
      "Failed to download (trying next):\n",
      "HTTP Error 404: Not Found\n",
      "\n",
      "Downloading https://ossci-datasets.s3.amazonaws.com/mnist/t10k-labels-idx1-ubyte.gz\n",
      "Downloading https://ossci-datasets.s3.amazonaws.com/mnist/t10k-labels-idx1-ubyte.gz to ./data/MNIST/raw/t10k-labels-idx1-ubyte.gz\n",
      "100.0%\n",
      "Extracting ./data/MNIST/raw/t10k-labels-idx1-ubyte.gz to ./data/MNIST/raw\n",
      "\n",
      "Batch 0, Loss: 2.2982\n",
      "Batch 100, Loss: 1.0255\n",
      "Batch 200, Loss: 0.6707\n",
      "Batch 300, Loss: 0.6484\n",
      "Batch 400, Loss: 0.4008\n",
      "Batch 500, Loss: 0.5606\n",
      "Batch 600, Loss: 0.2504\n",
      "Batch 700, Loss: 0.3052\n",
      "Batch 800, Loss: 0.3721\n",
      "Batch 900, Loss: 0.4431\n",
      "Finished distributed training with 1 executor processes                         \n"
     ]
    },
    {
     "name": "stdout",
     "output_type": "stream",
     "text": [
      "\n",
      "Parámetros entrenados:\n",
      "Keys: ['1.weight', '1.bias', '3.weight', '3.bias']\n"
     ]
    }
   ],
   "source": [
    "from pyspark.sql import SparkSession\n",
    "from pyspark.ml.torch.distributor import TorchDistributor\n",
    "import torch\n",
    "import torch.nn as nn\n",
    "import torch.optim as optim\n",
    "from torchvision import datasets, transforms\n",
    "from torch.utils.data import DataLoader\n",
    "\n",
    "# Prueba de MNIST (tomado de GITHUB)\n",
    "\n",
    "def train_model_mnist(learning_rate=0.01):\n",
    "    transform = transforms.Compose([\n",
    "        transforms.ToTensor(),\n",
    "        transforms.Normalize((0.1307,), (0.3081,))\n",
    "    ])\n",
    "\n",
    "    dataset = datasets.MNIST(root=\"./data\", train=True, download=True, transform=transform)\n",
    "    loader = DataLoader(dataset, batch_size=64, shuffle=True)\n",
    "\n",
    "    model = nn.Sequential(\n",
    "        nn.Flatten(),\n",
    "        nn.Linear(28*28, 128),\n",
    "        nn.ReLU(),\n",
    "        nn.Linear(128, 10)\n",
    "    )\n",
    "    criterion = nn.CrossEntropyLoss()\n",
    "    optimizer = optim.SGD(model.parameters(), lr=learning_rate)\n",
    "\n",
    "    for epoch in range(1):\n",
    "        for batch_idx, (data, target) in enumerate(loader):\n",
    "            optimizer.zero_grad()\n",
    "            outputs = model(data)\n",
    "            loss = criterion(outputs, target)\n",
    "            loss.backward()\n",
    "            optimizer.step()\n",
    "            if batch_idx % 100 == 0:\n",
    "                print(f\"Batch {batch_idx}, Loss: {loss.item():.4f}\")\n",
    "\n",
    "    return model.state_dict()\n",
    "\n",
    "print(\"Iniciando entrenamiento distribuido MNIST...\")\n",
    "distributor = TorchDistributor(\n",
    "    local_mode=False,  # Windows o testing rápido\n",
    "    use_gpu=False\n",
    ")\n",
    "\n",
    "result = distributor.run(train_model_mnist, 0.01)\n",
    "\n",
    "print(\"\\nParámetros entrenados:\")\n",
    "print(f\"Keys: {list(result.keys())}\")\n",
    "\n"
   ]
  },
  {
   "cell_type": "code",
   "execution_count": 13,
   "metadata": {},
   "outputs": [
    {
     "data": {
      "text/plain": [
       "OrderedDict([('1.weight',\n",
       "              tensor([[-0.0228,  0.0153, -0.0303,  ...,  0.0270,  0.0259, -0.0336],\n",
       "                      [ 0.0263, -0.0197, -0.0064,  ...,  0.0126,  0.0168, -0.0315],\n",
       "                      [ 0.0177,  0.0213,  0.0158,  ...,  0.0108,  0.0125, -0.0064],\n",
       "                      ...,\n",
       "                      [-0.0036, -0.0363, -0.0095,  ...,  0.0086,  0.0175, -0.0207],\n",
       "                      [-0.0107,  0.0078,  0.0247,  ..., -0.0203, -0.0226,  0.0347],\n",
       "                      [-0.0063,  0.0285,  0.0195,  ..., -0.0130,  0.0212, -0.0239]])),\n",
       "             ('1.bias',\n",
       "              tensor([-0.0246, -0.0080, -0.0056, -0.0264, -0.0179,  0.0078, -0.0263,  0.0300,\n",
       "                      -0.0081,  0.0131, -0.0215,  0.0134,  0.0067, -0.0108,  0.0133, -0.0205,\n",
       "                      -0.0175,  0.0103, -0.0288, -0.0105,  0.0091,  0.0073, -0.0007, -0.0243,\n",
       "                      -0.0122, -0.0016,  0.0266,  0.0071, -0.0302,  0.0075, -0.0042, -0.0145,\n",
       "                       0.0085,  0.0329,  0.0011,  0.0375,  0.0162,  0.0353,  0.0070,  0.0197,\n",
       "                       0.0005,  0.0347, -0.0347,  0.0173,  0.0234, -0.0148, -0.0095, -0.0144,\n",
       "                      -0.0003,  0.0330,  0.0294,  0.0246, -0.0105,  0.0103, -0.0026,  0.0283,\n",
       "                       0.0082,  0.0049,  0.0268,  0.0275,  0.0210,  0.0016, -0.0154, -0.0137,\n",
       "                       0.0260, -0.0142,  0.0144,  0.0099, -0.0079, -0.0138, -0.0160, -0.0230,\n",
       "                       0.0114, -0.0205,  0.0280,  0.0082,  0.0273, -0.0218,  0.0208, -0.0176,\n",
       "                      -0.0271,  0.0065,  0.0235, -0.0152,  0.0367,  0.0259, -0.0165, -0.0273,\n",
       "                       0.0005, -0.0202, -0.0026, -0.0102, -0.0193,  0.0409,  0.0289,  0.0130,\n",
       "                       0.0375, -0.0134, -0.0122, -0.0289, -0.0239, -0.0068,  0.0239,  0.0278,\n",
       "                       0.0382,  0.0213,  0.0180,  0.0154, -0.0241, -0.0258, -0.0258,  0.0289,\n",
       "                       0.0155, -0.0106, -0.0206, -0.0119, -0.0033,  0.0265,  0.0365,  0.0215,\n",
       "                       0.0229, -0.0161,  0.0376,  0.0165,  0.0090,  0.0369,  0.0192, -0.0020])),\n",
       "             ('3.weight',\n",
       "              tensor([[ 0.0230,  0.0382, -0.0716,  ..., -0.0830,  0.0560, -0.0892],\n",
       "                      [ 0.0131, -0.1148, -0.0472,  ..., -0.0319,  0.0919,  0.0401],\n",
       "                      [ 0.1631,  0.0750, -0.0613,  ...,  0.0623, -0.0613,  0.0080],\n",
       "                      ...,\n",
       "                      [-0.0414,  0.0761, -0.0707,  ..., -0.1033,  0.0507,  0.0819],\n",
       "                      [-0.0831,  0.0713, -0.0582,  ...,  0.0330,  0.0417, -0.0688],\n",
       "                      [-0.0351,  0.0269,  0.0624,  ..., -0.0593, -0.0586, -0.0482]])),\n",
       "             ('3.bias',\n",
       "              tensor([ 0.0476,  0.0480,  0.0596, -0.0730,  0.0013, -0.0268, -0.0141,  0.0460,\n",
       "                       0.0033,  0.0319]))])"
      ]
     },
     "execution_count": 13,
     "metadata": {},
     "output_type": "execute_result"
    }
   ],
   "source": [
    "result"
   ]
  },
  {
   "cell_type": "code",
   "execution_count": 14,
   "metadata": {},
   "outputs": [
    {
     "name": "stdout",
     "output_type": "stream",
     "text": [
      "Precisión en test MNIST: 90.84%\n"
     ]
    },
    {
     "data": {
      "text/plain": [
       "0.9084"
      ]
     },
     "execution_count": 14,
     "metadata": {},
     "output_type": "execute_result"
    }
   ],
   "source": [
    "from torchvision import datasets, transforms\n",
    "from torch.utils.data import DataLoader\n",
    "import torch.nn.functional as F\n",
    "import torch\n",
    "\n",
    "def test_model_mnist(model_state):\n",
    "    # Transformación para test\n",
    "    transform = transforms.Compose([\n",
    "        transforms.ToTensor(),\n",
    "        transforms.Normalize((0.1307,), (0.3081,))\n",
    "    ])\n",
    "    \n",
    "    test_dataset = datasets.MNIST(root=\"./data\", train=False, download=True, transform=transform)\n",
    "    test_loader = DataLoader(test_dataset, batch_size=1000, shuffle=False)\n",
    "\n",
    "    model = nn.Sequential(\n",
    "        nn.Flatten(),\n",
    "        nn.Linear(28*28, 128),\n",
    "        nn.ReLU(),\n",
    "        nn.Linear(128, 10)\n",
    "    )\n",
    "    model.load_state_dict(model_state)\n",
    "    model.eval()\n",
    "\n",
    "    correct = 0\n",
    "    total = 0\n",
    "    with torch.no_grad():\n",
    "        for data, target in test_loader:\n",
    "            outputs = model(data)\n",
    "            pred = outputs.argmax(dim=1, keepdim=True)\n",
    "            correct += pred.eq(target.view_as(pred)).sum().item()\n",
    "            total += target.size(0)\n",
    "    \n",
    "    accuracy = correct / total\n",
    "    print(f\"Precisión en test MNIST: {accuracy*100:.2f}%\")\n",
    "    return accuracy\n",
    "\n",
    "test_model_mnist(result)\n"
   ]
  },
  {
   "cell_type": "code",
   "execution_count": 15,
   "metadata": {},
   "outputs": [
    {
     "data": {
      "image/png": "[encoded data removed]",
      "text/plain": [
       "<Figure size 1000x200 with 5 Axes>"
      ]
     },
     "metadata": {},
     "output_type": "display_data"
    }
   ],
   "source": [
    "import matplotlib.pyplot as plt\n",
    "from torchvision import datasets, transforms\n",
    "from torch.utils.data import DataLoader\n",
    "import torch\n",
    "import torch.nn as nn\n",
    "\n",
    "def visualize_predictions(model_state, n_images=5):\n",
    "    # Transformación igual que durante entrenamiento\n",
    "    transform = transforms.Compose([\n",
    "        transforms.ToTensor(),\n",
    "        transforms.Normalize((0.1307,), (0.3081,))\n",
    "    ])\n",
    "    \n",
    "    test_dataset = datasets.MNIST(root=\"./data\", train=False, download=True, transform=transform)\n",
    "    test_loader = DataLoader(test_dataset, batch_size=n_images, shuffle=True)\n",
    "\n",
    "    # Definimos el mismo modelo que entrenamos\n",
    "    model = nn.Sequential(\n",
    "        nn.Flatten(),\n",
    "        nn.Linear(28*28, 128),\n",
    "        nn.ReLU(),\n",
    "        nn.Linear(128, 10)\n",
    "    )\n",
    "    model.load_state_dict(model_state)\n",
    "    model.eval()\n",
    "\n",
    "    # Tomamos un batch de n_images\n",
    "    images, labels = next(iter(test_loader))\n",
    "    with torch.no_grad():\n",
    "        outputs = model(images)\n",
    "        preds = outputs.argmax(dim=1)\n",
    "\n",
    "    # Mostrar imágenes y predicciones\n",
    "    fig, axes = plt.subplots(1, n_images, figsize=(n_images*2, 2))\n",
    "    for i in range(n_images):\n",
    "        axes[i].imshow(images[i].squeeze(), cmap='gray')\n",
    "        axes[i].set_title(f\"P: {preds[i].item()}\")\n",
    "        axes[i].axis('off')\n",
    "    plt.show()\n",
    "\n",
    "# Usar la función\n",
    "visualize_predictions(result, n_images=5)\n"
   ]
  },
  {
   "cell_type": "code",
   "execution_count": 16,
   "metadata": {},
   "outputs": [
    {
     "data": {
      "text/html": [
       "\n",
       "            <div>\n",
       "                <p><b>SparkSession - in-memory</b></p>\n",
       "                \n",
       "        <div>\n",
       "            <p><b>SparkContext</b></p>\n",
       "\n",
       "            <p><a href=\"http://172.22.139.79:4041\">Spark UI</a></p>\n",
       "\n",
       "            <dl>\n",
       "              <dt>Version</dt>\n",
       "                <dd><code>v4.0.0</code></dd>\n",
       "              <dt>Master</dt>\n",
       "                <dd><code>spark://localhost:7077</code></dd>\n",
       "              <dt>AppName</dt>\n",
       "                <dd><code>AppCLusterCompose</code></dd>\n",
       "            </dl>\n",
       "        </div>\n",
       "        \n",
       "            </div>\n",
       "        "
      ],
      "text/plain": [
       "<pyspark.sql.session.SparkSession at 0x7322aeb7bf50>"
      ]
     },
     "execution_count": 16,
     "metadata": {},
     "output_type": "execute_result"
    }
   ],
   "source": [
    "distributor.spark"
   ]
  },
  {
   "cell_type": "code",
   "execution_count": 17,
   "metadata": {},
   "outputs": [
    {
     "name": "stderr",
     "output_type": "stream",
     "text": [
      "Started distributed training with 1 executor processes\n",
      "Downloading http://yann.lecun.com/exdb/mnist/train-images-idx3-ubyte.gz+ 1) / 1]\n",
      "Failed to download (trying next):\n",
      "HTTP Error 404: Not Found\n",
      "\n",
      "Downloading https://ossci-datasets.s3.amazonaws.com/mnist/train-images-idx3-ubyte.gz\n",
      "Downloading https://ossci-datasets.s3.amazonaws.com/mnist/train-images-idx3-ubyte.gz to ./data/MNIST/raw/train-images-idx3-ubyte.gz\n",
      "100.0%\n",
      "Extracting ./data/MNIST/raw/train-images-idx3-ubyte.gz to ./data/MNIST/raw\n",
      "\n",
      "Downloading http://yann.lecun.com/exdb/mnist/train-labels-idx1-ubyte.gz\n",
      "Failed to download (trying next):\n",
      "HTTP Error 404: Not Found\n",
      "\n",
      "Downloading https://ossci-datasets.s3.amazonaws.com/mnist/train-labels-idx1-ubyte.gz\n",
      "Downloading https://ossci-datasets.s3.amazonaws.com/mnist/train-labels-idx1-ubyte.gz to ./data/MNIST/raw/train-labels-idx1-ubyte.gz\n",
      "100.0%\n",
      "Extracting ./data/MNIST/raw/train-labels-idx1-ubyte.gz to ./data/MNIST/raw\n",
      "\n",
      "Downloading http://yann.lecun.com/exdb/mnist/t10k-images-idx3-ubyte.gz\n",
      "Failed to download (trying next):\n",
      "HTTP Error 404: Not Found\n",
      "\n",
      "Downloading https://ossci-datasets.s3.amazonaws.com/mnist/t10k-images-idx3-ubyte.gz\n",
      "Downloading https://ossci-datasets.s3.amazonaws.com/mnist/t10k-images-idx3-ubyte.gz to ./data/MNIST/raw/t10k-images-idx3-ubyte.gz\n",
      "100.0%\n",
      "Extracting ./data/MNIST/raw/t10k-images-idx3-ubyte.gz to ./data/MNIST/raw\n",
      "\n",
      "Downloading http://yann.lecun.com/exdb/mnist/t10k-labels-idx1-ubyte.gz\n",
      "Failed to download (trying next):\n",
      "HTTP Error 404: Not Found\n",
      "\n",
      "Downloading https://ossci-datasets.s3.amazonaws.com/mnist/t10k-labels-idx1-ubyte.gz\n",
      "Downloading https://ossci-datasets.s3.amazonaws.com/mnist/t10k-labels-idx1-ubyte.gz to ./data/MNIST/raw/t10k-labels-idx1-ubyte.gz\n",
      "100.0%\n",
      "Extracting ./data/MNIST/raw/t10k-labels-idx1-ubyte.gz to ./data/MNIST/raw\n",
      "\n",
      "[Rank 0] Epoch 0 Loss 0.1270                                        (0 + 1) / 1]\n",
      "[Rank 0] Epoch 1 Loss 0.0016                                        (0 + 1) / 1]\n",
      "[Rank 0] Epoch 2 Loss 0.0002                                        (0 + 1) / 1]\n",
      "Finished distributed training with 1 executor processes                         \n"
     ]
    }
   ],
   "source": [
    "\n",
    "import torch\n",
    "import torch.nn as nn\n",
    "import torch.nn.functional as F\n",
    "import torch.optim as optim\n",
    "from torchvision import datasets, transforms\n",
    "from torch.utils.data import DataLoader, DistributedSampler\n",
    "from pyspark.sql import SparkSession\n",
    "\n",
    "class SimpleCNN(nn.Module):\n",
    "    def __init__(self):\n",
    "        super(SimpleCNN, self).__init__()\n",
    "        self.conv1 = nn.Conv2d(1, 32, 3, 1)\n",
    "        self.conv2 = nn.Conv2d(32, 64, 3, 1)\n",
    "        self.fc1 = nn.Linear(9216, 128)\n",
    "        self.fc2 = nn.Linear(128, 10)\n",
    "\n",
    "    def forward(self, x):\n",
    "        x = F.relu(self.conv1(x))\n",
    "        x = F.relu(self.conv2(x))\n",
    "        x = F.max_pool2d(x, 2)\n",
    "        x = torch.flatten(x, 1)\n",
    "        x = F.relu(self.fc1(x))\n",
    "        x = self.fc2(x)\n",
    "        return x\n",
    "\n",
    "def train():\n",
    "    rank = int(os.environ[\"RANK\"])\n",
    "    world_size = int(os.environ[\"WORLD_SIZE\"])\n",
    "\n",
    "    torch.manual_seed(42)\n",
    "\n",
    "    transform = transforms.Compose([transforms.ToTensor()])\n",
    "    dataset = datasets.MNIST(root=\"./data\", train=True, download=True, transform=transform)\n",
    "    sampler = DistributedSampler(dataset, num_replicas=world_size, rank=rank, shuffle=True)\n",
    "    loader = DataLoader(dataset, batch_size=64, sampler=sampler)\n",
    "    \n",
    "    model = SimpleCNN()\n",
    "    if world_size > 1:\n",
    "        model = nn.parallel.DistributedDataParallel(model)\n",
    "\n",
    "    optimizer = optim.Adam(model.parameters(), lr=0.001)\n",
    "    \n",
    "    for epoch in range(3):\n",
    "        sampler.set_epoch(epoch) \n",
    "        for batch_idx, (data, target) in enumerate(loader):\n",
    "            optimizer.zero_grad()\n",
    "            output = model(data)\n",
    "            loss = F.cross_entropy(output, target)\n",
    "            loss.backward()\n",
    "            optimizer.step()\n",
    "        print(f\"[Rank {rank}] Epoch {epoch} Loss {loss.item():.4f}\")\n",
    "\n",
    "\n",
    "world_size = 2 \n",
    "distributor = distributor = TorchDistributor(\n",
    "    local_mode=False,  \n",
    "    use_gpu=False\n",
    ")\n",
    "\n",
    "result =distributor.run(train)\n"
   ]
  },
  {
   "cell_type": "code",
   "execution_count": 18,
   "metadata": {},
   "outputs": [
    {
     "name": "stderr",
     "output_type": "stream",
     "text": [
      "Started distributed training with 1 executor processes                          \n",
      "Epoch 1, Loss: 0.1209                                               (0 + 1) / 1]\n",
      "Epoch 2, Loss: 0.0845\n",
      "Epoch 3, Loss: 0.0858\n",
      "Epoch 4, Loss: 0.0838\n",
      "Epoch 5, Loss: 0.0810\n",
      "Finished distributed training with 1 executor processes                         \n"
     ]
    },
    {
     "name": "stdout",
     "output_type": "stream",
     "text": [
      "\n",
      "Entrenamiento distribuido finalizado.\n",
      "Claves del modelo entrenado: ['0.weight', '0.bias', '2.weight', '2.bias']\n"
     ]
    },
    {
     "data": {
      "image/png": "[encoded data removed]",
      "text/plain": [
       "<Figure size 640x480 with 1 Axes>"
      ]
     },
     "metadata": {},
     "output_type": "display_data"
    },
    {
     "data": {
      "image/png": "[encoded data removed]",
      "text/plain": [
       "<Figure size 640x480 with 1 Axes>"
      ]
     },
     "metadata": {},
     "output_type": "display_data"
    },
    {
     "data": {
      "image/png": "[encoded data removed]",
      "text/plain": [
       "<Figure size 640x480 with 1 Axes>"
      ]
     },
     "metadata": {},
     "output_type": "display_data"
    },
    {
     "data": {
      "image/png": "[encoded data removed]",
      "text/plain": [
       "<Figure size 640x480 with 1 Axes>"
      ]
     },
     "metadata": {},
     "output_type": "display_data"
    },
    {
     "data": {
      "image/png": "[encoded data removed]",
      "text/plain": [
       "<Figure size 640x480 with 1 Axes>"
      ]
     },
     "metadata": {},
     "output_type": "display_data"
    }
   ],
   "source": [
    "from pyspark.ml.torch.distributor import TorchDistributor\n",
    "import torch\n",
    "import torch.nn as nn\n",
    "import torch.optim as optim\n",
    "from torch.utils.data import Dataset, DataLoader\n",
    "from pyspark.ml.feature import VectorAssembler\n",
    "\n",
    "# -----------------------------\n",
    "# 1. Crear datos sintéticos en Spark\n",
    "# -----------------------------\n",
    "import pyspark.sql.functions as F\n",
    "from pyspark.sql import SparkSession\n",
    "\n",
    "# spark ya está definido\n",
    "num_features = 10\n",
    "num_samples = 1000\n",
    "\n",
    "# Generamos datos sintéticos\n",
    "df = spark.range(num_samples).withColumn(\"y\", F.rand())\n",
    "for i in range(num_features):\n",
    "    df = df.withColumn(f\"x{i}\", F.rand())\n",
    "\n",
    "# Vectorización con Spark\n",
    "assembler = VectorAssembler(inputCols=[f\"x{i}\" for i in range(num_features)], outputCol=\"features\")\n",
    "df = assembler.transform(df)\n",
    "\n",
    "# -----------------------------\n",
    "# 2. Convertir a Dataset de PyTorch\n",
    "# -----------------------------\n",
    "class ListDataset(Dataset):\n",
    "    def __init__(self, data_list):\n",
    "        self.data_list = data_list\n",
    "    def __len__(self):\n",
    "        return len(self.data_list)\n",
    "    def __getitem__(self, idx):\n",
    "        return self.data_list[idx]\n",
    "\n",
    "# Convertir a lista de tuplas (features_tensor, target_tensor)\n",
    "data_list = df.select(\"features\", \"y\").rdd.map(\n",
    "    lambda row: (torch.tensor(row[\"features\"], dtype=torch.float32),\n",
    "                 torch.tensor([row[\"y\"]], dtype=torch.float32))\n",
    ").collect()\n",
    "\n",
    "dataset = ListDataset(data_list)\n",
    "\n",
    "# -----------------------------\n",
    "# 3. Definir modelo y entrenamiento\n",
    "# -----------------------------\n",
    "def train_model(lr=0.01):\n",
    "    model = nn.Sequential(\n",
    "        nn.Linear(num_features, 64),\n",
    "        nn.ReLU(),\n",
    "        nn.Linear(64, 1)\n",
    "    )\n",
    "    criterion = nn.MSELoss()\n",
    "    optimizer = optim.Adam(model.parameters(), lr=lr)\n",
    "    \n",
    "    loader = DataLoader(dataset, batch_size=32, shuffle=True)\n",
    "    \n",
    "    for epoch in range(5):  # pocos epochs para prueba\n",
    "        epoch_loss = 0.0\n",
    "        for X_batch, y_batch in loader:\n",
    "            optimizer.zero_grad()\n",
    "            y_pred = model(X_batch)\n",
    "            loss = criterion(y_pred, y_batch)\n",
    "            loss.backward()\n",
    "            optimizer.step()\n",
    "            epoch_loss += loss.item() * X_batch.size(0)\n",
    "        print(f\"Epoch {epoch+1}, Loss: {epoch_loss/len(loader.dataset):.4f}\")\n",
    "    \n",
    "    return model.state_dict(), model  # devolvemos también el modelo entrenado\n",
    "\n",
    "# -----------------------------\n",
    "# 4. Entrenamiento distribuido\n",
    "# -----------------------------\n",
    "distributor = TorchDistributor(local_mode=False, use_gpu=False)\n",
    "state_dict, trained_model = distributor.run(train_model, 0.01)\n",
    "\n",
    "print(\"\\nEntrenamiento distribuido finalizado.\")\n",
    "print(f\"Claves del modelo entrenado: {list(state_dict.keys())}\")\n",
    "\n",
    "# -----------------------------\n",
    "# 5. Prueba con 5 muestras\n",
    "# -----------------------------\n",
    "import matplotlib.pyplot as plt\n",
    "\n",
    "test_samples = dataset[:5]  # primeras 5\n",
    "X_test = torch.stack([x for x, y in test_samples])\n",
    "y_test = torch.stack([y for x, y in test_samples])\n",
    "\n",
    "with torch.no_grad():\n",
    "    y_pred = trained_model(X_test)\n",
    "\n",
    "# Mostrar resultados\n",
    "for i in range(5):\n",
    "    plt.figure()\n",
    "    plt.bar([\"y_true\", \"y_pred\"], [y_test[i].item(), y_pred[i].item()])\n",
    "    plt.title(f\"Muestra {i+1}\")\n",
    "    plt.show()\n"
   ]
  },
  {
   "cell_type": "code",
   "execution_count": 19,
   "metadata": {},
   "outputs": [],
   "source": [
    "spark.stop()"
   ]
  },
  {
   "cell_type": "code",
   "execution_count": null,
   "metadata": {},
   "outputs": [],
   "source": []
  }
 ],
 "metadata": {
  "kernelspec": {
   "display_name": "tfm",
   "language": "python",
   "name": "python3"
  },
  "language_info": {
   "codemirror_mode": {
    "name": "ipython",
    "version": 3
   },
   "file_extension": ".py",
   "mimetype": "text/x-python",
   "name": "python",
   "nbconvert_exporter": "python",
   "pygments_lexer": "ipython3",
   "version": "3.11.13"
  }
 },
 "nbformat": 4,
 "nbformat_minor": 2
}
